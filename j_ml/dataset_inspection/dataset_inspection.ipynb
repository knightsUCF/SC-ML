{
 "metadata": {
  "language_info": {
   "codemirror_mode": {
    "name": "ipython",
    "version": 3
   },
   "file_extension": ".py",
   "mimetype": "text/x-python",
   "name": "python",
   "nbconvert_exporter": "python",
   "pygments_lexer": "ipython3",
   "version": "3.8.5"
  },
  "orig_nbformat": 2,
  "kernelspec": {
   "name": "python385jvsc74a57bd031f2aee4e71d21fbe5cf8b01ff0e069b9275f58929596ceb00d14d90e3e16cd6",
   "display_name": "Python 3.8.5 64-bit"
  },
  "metadata": {
   "interpreter": {
    "hash": "31f2aee4e71d21fbe5cf8b01ff0e069b9275f58929596ceb00d14d90e3e16cd6"
   }
  }
 },
 "nbformat": 4,
 "nbformat_minor": 2,
 "cells": [
  {
   "cell_type": "code",
   "execution_count": 1,
   "metadata": {},
   "outputs": [],
   "source": [
    "import pandas as pd\n",
    "import numpy as np"
   ]
  },
  {
   "cell_type": "code",
   "execution_count": 2,
   "metadata": {},
   "outputs": [],
   "source": [
    " # processed_dge folder contains all new defined datasets\n",
    " # get all shapes from processed_dge files\n",
    " shape_list = []\n",
    " for root, dirs, files in os.walk(\"/home/jay/Documents/projects/todo_files/ml_final_pro/datasets/processed_dge\", topdown=False):\n",
    "     for name in files:\n",
    "        file_dir = os.path.join(root, name)\n",
    "        tmp_df = pd.read_csv(file_dir)\n",
    "        shape_list.append(tmp_df.shape)\n"
   ]
  },
  {
   "cell_type": "code",
   "execution_count": 3,
   "metadata": {},
   "outputs": [],
   "source": [
    "tmp_df = pd.read_csv('/home/jay/Documents/projects/todo_files/ml_final_pro/datasets/processed_dge/Bladder_1.csv')"
   ]
  },
  {
   "cell_type": "code",
   "execution_count": 19,
   "metadata": {},
   "outputs": [
    {
     "output_type": "execute_result",
     "data": {
      "text/plain": [
       "                        Unnamed: 0  0610007P14Rik  0610009B22Rik  \\\n",
       "0     Bladder_1.CCATCTAGCGAGTTTAGG              1              0   \n",
       "1     Bladder_1.GAGGAGCGCTTGATACAG              1              3   \n",
       "2     Bladder_1.CCAGACACAATAGAATTA              1              0   \n",
       "3     Bladder_1.CCGACGGGACATATGGCG              1              0   \n",
       "4     Bladder_1.TAGCATTCAAAGATTCCA              1              3   \n",
       "...                            ...            ...            ...   \n",
       "2741  Bladder_1.AAAACGCAACAAGGGCGA              0              0   \n",
       "2742  Bladder_1.TTAACTGAGGAGGGGCGA              0              0   \n",
       "2743  Bladder_1.GAGTCGGTCGGTATCAAC              0              0   \n",
       "2744  Bladder_1.CCAGACCATGATAAGTAC              0              0   \n",
       "2745  Bladder_1.CAACAAAGATGGTTTAGG              0              0   \n",
       "\n",
       "      0610009E02Rik  0610009L18Rik  0610009O20Rik  0610010F05Rik  \\\n",
       "0                 0              0              0              0   \n",
       "1                 0              0              0              0   \n",
       "2                 1              0              0              0   \n",
       "3                 0              0              1              0   \n",
       "4                 0              1              0              0   \n",
       "...             ...            ...            ...            ...   \n",
       "2741              0              0              0              0   \n",
       "2742              0              0              0              0   \n",
       "2743              0              0              0              0   \n",
       "2744              0              0              0              0   \n",
       "2745              0              0              0              0   \n",
       "\n",
       "      0610010K14Rik  0610012G03Rik  0610025J13Rik  ...  n-R5s195  n-R5s21  \\\n",
       "0                 0              2              0  ...         0        0   \n",
       "1                 0              2              0  ...         0        0   \n",
       "2                 0              5              0  ...         0        0   \n",
       "3                 0              1              0  ...         0        0   \n",
       "4                 0              7              0  ...         0        0   \n",
       "...             ...            ...            ...  ...       ...      ...   \n",
       "2741              0              0              0  ...         0        0   \n",
       "2742              0              0              0  ...         0        0   \n",
       "2743              0              0              0  ...         0        0   \n",
       "2744              0              0              0  ...         0        0   \n",
       "2745              0              0              0  ...         0        0   \n",
       "\n",
       "      n-R5s25  n-R5s28  n-R5s33  n-R5s77  n-R5s96  n-TStga1  target_id  \\\n",
       "0           0        0        0        0        0         0          9   \n",
       "1           0        0        0        0        0         0          9   \n",
       "2           0        0        0        0        0         0          9   \n",
       "3           0        0        0        0        0         0          9   \n",
       "4           0        0        0        0        0         0          9   \n",
       "...       ...      ...      ...      ...      ...       ...        ...   \n",
       "2741        0        0        0        0        0         0          4   \n",
       "2742        0        0        0        0        0         0          4   \n",
       "2743        0        0        0        0        0         0          6   \n",
       "2744        0        0        0        0        0         0          4   \n",
       "2745        0        0        0        0        0         0          4   \n",
       "\n",
       "                      annotation  \n",
       "0                  Umbrella cell  \n",
       "1                  Umbrella cell  \n",
       "2                  Umbrella cell  \n",
       "3                  Umbrella cell  \n",
       "4                  Umbrella cell  \n",
       "...                          ...  \n",
       "2741                  Urothelium  \n",
       "2742                  Urothelium  \n",
       "2743  Epithelial cell_Upk3a high  \n",
       "2744                  Urothelium  \n",
       "2745                  Urothelium  \n",
       "\n",
       "[2746 rows x 20673 columns]"
      ],
      "text/html": "<div>\n<style scoped>\n    .dataframe tbody tr th:only-of-type {\n        vertical-align: middle;\n    }\n\n    .dataframe tbody tr th {\n        vertical-align: top;\n    }\n\n    .dataframe thead th {\n        text-align: right;\n    }\n</style>\n<table border=\"1\" class=\"dataframe\">\n  <thead>\n    <tr style=\"text-align: right;\">\n      <th></th>\n      <th>Unnamed: 0</th>\n      <th>0610007P14Rik</th>\n      <th>0610009B22Rik</th>\n      <th>0610009E02Rik</th>\n      <th>0610009L18Rik</th>\n      <th>0610009O20Rik</th>\n      <th>0610010F05Rik</th>\n      <th>0610010K14Rik</th>\n      <th>0610012G03Rik</th>\n      <th>0610025J13Rik</th>\n      <th>...</th>\n      <th>n-R5s195</th>\n      <th>n-R5s21</th>\n      <th>n-R5s25</th>\n      <th>n-R5s28</th>\n      <th>n-R5s33</th>\n      <th>n-R5s77</th>\n      <th>n-R5s96</th>\n      <th>n-TStga1</th>\n      <th>target_id</th>\n      <th>annotation</th>\n    </tr>\n  </thead>\n  <tbody>\n    <tr>\n      <th>0</th>\n      <td>Bladder_1.CCATCTAGCGAGTTTAGG</td>\n      <td>1</td>\n      <td>0</td>\n      <td>0</td>\n      <td>0</td>\n      <td>0</td>\n      <td>0</td>\n      <td>0</td>\n      <td>2</td>\n      <td>0</td>\n      <td>...</td>\n      <td>0</td>\n      <td>0</td>\n      <td>0</td>\n      <td>0</td>\n      <td>0</td>\n      <td>0</td>\n      <td>0</td>\n      <td>0</td>\n      <td>9</td>\n      <td>Umbrella cell</td>\n    </tr>\n    <tr>\n      <th>1</th>\n      <td>Bladder_1.GAGGAGCGCTTGATACAG</td>\n      <td>1</td>\n      <td>3</td>\n      <td>0</td>\n      <td>0</td>\n      <td>0</td>\n      <td>0</td>\n      <td>0</td>\n      <td>2</td>\n      <td>0</td>\n      <td>...</td>\n      <td>0</td>\n      <td>0</td>\n      <td>0</td>\n      <td>0</td>\n      <td>0</td>\n      <td>0</td>\n      <td>0</td>\n      <td>0</td>\n      <td>9</td>\n      <td>Umbrella cell</td>\n    </tr>\n    <tr>\n      <th>2</th>\n      <td>Bladder_1.CCAGACACAATAGAATTA</td>\n      <td>1</td>\n      <td>0</td>\n      <td>1</td>\n      <td>0</td>\n      <td>0</td>\n      <td>0</td>\n      <td>0</td>\n      <td>5</td>\n      <td>0</td>\n      <td>...</td>\n      <td>0</td>\n      <td>0</td>\n      <td>0</td>\n      <td>0</td>\n      <td>0</td>\n      <td>0</td>\n      <td>0</td>\n      <td>0</td>\n      <td>9</td>\n      <td>Umbrella cell</td>\n    </tr>\n    <tr>\n      <th>3</th>\n      <td>Bladder_1.CCGACGGGACATATGGCG</td>\n      <td>1</td>\n      <td>0</td>\n      <td>0</td>\n      <td>0</td>\n      <td>1</td>\n      <td>0</td>\n      <td>0</td>\n      <td>1</td>\n      <td>0</td>\n      <td>...</td>\n      <td>0</td>\n      <td>0</td>\n      <td>0</td>\n      <td>0</td>\n      <td>0</td>\n      <td>0</td>\n      <td>0</td>\n      <td>0</td>\n      <td>9</td>\n      <td>Umbrella cell</td>\n    </tr>\n    <tr>\n      <th>4</th>\n      <td>Bladder_1.TAGCATTCAAAGATTCCA</td>\n      <td>1</td>\n      <td>3</td>\n      <td>0</td>\n      <td>1</td>\n      <td>0</td>\n      <td>0</td>\n      <td>0</td>\n      <td>7</td>\n      <td>0</td>\n      <td>...</td>\n      <td>0</td>\n      <td>0</td>\n      <td>0</td>\n      <td>0</td>\n      <td>0</td>\n      <td>0</td>\n      <td>0</td>\n      <td>0</td>\n      <td>9</td>\n      <td>Umbrella cell</td>\n    </tr>\n    <tr>\n      <th>...</th>\n      <td>...</td>\n      <td>...</td>\n      <td>...</td>\n      <td>...</td>\n      <td>...</td>\n      <td>...</td>\n      <td>...</td>\n      <td>...</td>\n      <td>...</td>\n      <td>...</td>\n      <td>...</td>\n      <td>...</td>\n      <td>...</td>\n      <td>...</td>\n      <td>...</td>\n      <td>...</td>\n      <td>...</td>\n      <td>...</td>\n      <td>...</td>\n      <td>...</td>\n      <td>...</td>\n    </tr>\n    <tr>\n      <th>2741</th>\n      <td>Bladder_1.AAAACGCAACAAGGGCGA</td>\n      <td>0</td>\n      <td>0</td>\n      <td>0</td>\n      <td>0</td>\n      <td>0</td>\n      <td>0</td>\n      <td>0</td>\n      <td>0</td>\n      <td>0</td>\n      <td>...</td>\n      <td>0</td>\n      <td>0</td>\n      <td>0</td>\n      <td>0</td>\n      <td>0</td>\n      <td>0</td>\n      <td>0</td>\n      <td>0</td>\n      <td>4</td>\n      <td>Urothelium</td>\n    </tr>\n    <tr>\n      <th>2742</th>\n      <td>Bladder_1.TTAACTGAGGAGGGGCGA</td>\n      <td>0</td>\n      <td>0</td>\n      <td>0</td>\n      <td>0</td>\n      <td>0</td>\n      <td>0</td>\n      <td>0</td>\n      <td>0</td>\n      <td>0</td>\n      <td>...</td>\n      <td>0</td>\n      <td>0</td>\n      <td>0</td>\n      <td>0</td>\n      <td>0</td>\n      <td>0</td>\n      <td>0</td>\n      <td>0</td>\n      <td>4</td>\n      <td>Urothelium</td>\n    </tr>\n    <tr>\n      <th>2743</th>\n      <td>Bladder_1.GAGTCGGTCGGTATCAAC</td>\n      <td>0</td>\n      <td>0</td>\n      <td>0</td>\n      <td>0</td>\n      <td>0</td>\n      <td>0</td>\n      <td>0</td>\n      <td>0</td>\n      <td>0</td>\n      <td>...</td>\n      <td>0</td>\n      <td>0</td>\n      <td>0</td>\n      <td>0</td>\n      <td>0</td>\n      <td>0</td>\n      <td>0</td>\n      <td>0</td>\n      <td>6</td>\n      <td>Epithelial cell_Upk3a high</td>\n    </tr>\n    <tr>\n      <th>2744</th>\n      <td>Bladder_1.CCAGACCATGATAAGTAC</td>\n      <td>0</td>\n      <td>0</td>\n      <td>0</td>\n      <td>0</td>\n      <td>0</td>\n      <td>0</td>\n      <td>0</td>\n      <td>0</td>\n      <td>0</td>\n      <td>...</td>\n      <td>0</td>\n      <td>0</td>\n      <td>0</td>\n      <td>0</td>\n      <td>0</td>\n      <td>0</td>\n      <td>0</td>\n      <td>0</td>\n      <td>4</td>\n      <td>Urothelium</td>\n    </tr>\n    <tr>\n      <th>2745</th>\n      <td>Bladder_1.CAACAAAGATGGTTTAGG</td>\n      <td>0</td>\n      <td>0</td>\n      <td>0</td>\n      <td>0</td>\n      <td>0</td>\n      <td>0</td>\n      <td>0</td>\n      <td>0</td>\n      <td>0</td>\n      <td>...</td>\n      <td>0</td>\n      <td>0</td>\n      <td>0</td>\n      <td>0</td>\n      <td>0</td>\n      <td>0</td>\n      <td>0</td>\n      <td>0</td>\n      <td>4</td>\n      <td>Urothelium</td>\n    </tr>\n  </tbody>\n</table>\n<p>2746 rows × 20673 columns</p>\n</div>"
     },
     "metadata": {},
     "execution_count": 19
    }
   ],
   "source": [
    "tmp_df"
   ]
  },
  {
   "cell_type": "code",
   "execution_count": 3,
   "metadata": {},
   "outputs": [
    {
     "output_type": "execute_result",
     "data": {
      "text/plain": [
       "[(5298, 18700),\n",
       " (4347, 19957),\n",
       " (1931, 17970),\n",
       " (352, 15164),\n",
       " (2035, 19702),\n",
       " (829, 17634),\n",
       " (3617, 20271),\n",
       " (1575, 17939),\n",
       " (13019, 20602),\n",
       " (135, 14964),\n",
       " (2771, 19822),\n",
       " (1963, 19320),\n",
       " (3624, 16228),\n",
       " (2473, 19524),\n",
       " (2746, 20673),\n",
       " (261, 16708),\n",
       " (4289, 17641),\n",
       " (4571, 19555),\n",
       " (753, 18723),\n",
       " (2699, 16491),\n",
       " (2216, 24182),\n",
       " (7365, 20193),\n",
       " (6453, 19202),\n",
       " (7319, 17846),\n",
       " (3610, 20286),\n",
       " (6192, 19723),\n",
       " (2512, 20768),\n",
       " (6076, 20118),\n",
       " (19489, 21080),\n",
       " (2389, 18881),\n",
       " (4369, 19539),\n",
       " (3014, 19796),\n",
       " (5808, 19700),\n",
       " (1592, 21366),\n",
       " (1474, 15499),\n",
       " (2432, 20116),\n",
       " (3201, 16711),\n",
       " (658, 14718),\n",
       " (3438, 20087),\n",
       " (3082, 20921),\n",
       " (1671, 18585),\n",
       " (1970, 17548),\n",
       " (9991, 20685),\n",
       " (3392, 20219),\n",
       " (510, 15535),\n",
       " (2466, 16403),\n",
       " (3472, 19738),\n",
       " (1102, 17291),\n",
       " (3948, 19496),\n",
       " (1873, 19432),\n",
       " (11789, 25786),\n",
       " (1217, 18567),\n",
       " (8166, 16823),\n",
       " (1704, 18857),\n",
       " (3285, 20168),\n",
       " (4424, 19597),\n",
       " (283, 14302),\n",
       " (4044, 21062),\n",
       " (1414, 19590),\n",
       " (1031, 15580)]"
      ]
     },
     "metadata": {},
     "execution_count": 3
    }
   ],
   "source": [
    "shape_list"
   ]
  },
  {
   "cell_type": "code",
   "execution_count": 5,
   "metadata": {},
   "outputs": [],
   "source": [
    "# convert to np array\n",
    "shape_list = np.array(shape_list)"
   ]
  },
  {
   "cell_type": "code",
   "execution_count": 6,
   "metadata": {},
   "outputs": [
    {
     "output_type": "execute_result",
     "data": {
      "text/plain": [
       "(60, 2)"
      ]
     },
     "metadata": {},
     "execution_count": 6
    }
   ],
   "source": [
    "shape_list.shape"
   ]
  },
  {
   "cell_type": "code",
   "execution_count": 7,
   "metadata": {},
   "outputs": [
    {
     "output_type": "execute_result",
     "data": {
      "text/plain": [
       "array([[ 5298, 18700],\n",
       "       [ 4347, 19957],\n",
       "       [ 1931, 17970],\n",
       "       [  352, 15164],\n",
       "       [ 2035, 19702],\n",
       "       [  829, 17634],\n",
       "       [ 3617, 20271],\n",
       "       [ 1575, 17939],\n",
       "       [13019, 20602],\n",
       "       [  135, 14964],\n",
       "       [ 2771, 19822],\n",
       "       [ 1963, 19320],\n",
       "       [ 3624, 16228],\n",
       "       [ 2473, 19524],\n",
       "       [ 2746, 20673],\n",
       "       [  261, 16708],\n",
       "       [ 4289, 17641],\n",
       "       [ 4571, 19555],\n",
       "       [  753, 18723],\n",
       "       [ 2699, 16491],\n",
       "       [ 2216, 24182],\n",
       "       [ 7365, 20193],\n",
       "       [ 6453, 19202],\n",
       "       [ 7319, 17846],\n",
       "       [ 3610, 20286],\n",
       "       [ 6192, 19723],\n",
       "       [ 2512, 20768],\n",
       "       [ 6076, 20118],\n",
       "       [19489, 21080],\n",
       "       [ 2389, 18881],\n",
       "       [ 4369, 19539],\n",
       "       [ 3014, 19796],\n",
       "       [ 5808, 19700],\n",
       "       [ 1592, 21366],\n",
       "       [ 1474, 15499],\n",
       "       [ 2432, 20116],\n",
       "       [ 3201, 16711],\n",
       "       [  658, 14718],\n",
       "       [ 3438, 20087],\n",
       "       [ 3082, 20921],\n",
       "       [ 1671, 18585],\n",
       "       [ 1970, 17548],\n",
       "       [ 9991, 20685],\n",
       "       [ 3392, 20219],\n",
       "       [  510, 15535],\n",
       "       [ 2466, 16403],\n",
       "       [ 3472, 19738],\n",
       "       [ 1102, 17291],\n",
       "       [ 3948, 19496],\n",
       "       [ 1873, 19432],\n",
       "       [11789, 25786],\n",
       "       [ 1217, 18567],\n",
       "       [ 8166, 16823],\n",
       "       [ 1704, 18857],\n",
       "       [ 3285, 20168],\n",
       "       [ 4424, 19597],\n",
       "       [  283, 14302],\n",
       "       [ 4044, 21062],\n",
       "       [ 1414, 19590],\n",
       "       [ 1031, 15580]])"
      ]
     },
     "metadata": {},
     "execution_count": 7
    }
   ],
   "source": [
    "shape_list"
   ]
  },
  {
   "cell_type": "code",
   "execution_count": 8,
   "metadata": {},
   "outputs": [],
   "source": [
    "smallest_num = np.amin(shape_list, axis=0)\n",
    "largest_num = np.amax(shape_list, axis=0)"
   ]
  },
  {
   "cell_type": "code",
   "execution_count": 9,
   "metadata": {},
   "outputs": [
    {
     "output_type": "execute_result",
     "data": {
      "text/plain": [
       "array([  135, 14302])"
      ]
     },
     "metadata": {},
     "execution_count": 9
    }
   ],
   "source": [
    "smallest_num"
   ]
  },
  {
   "cell_type": "code",
   "execution_count": 10,
   "metadata": {},
   "outputs": [
    {
     "output_type": "execute_result",
     "data": {
      "text/plain": [
       "array([19489, 25786])"
      ]
     },
     "metadata": {},
     "execution_count": 10
    }
   ],
   "source": [
    "largest_num"
   ]
  },
  {
   "cell_type": "code",
   "execution_count": 11,
   "metadata": {},
   "outputs": [],
   "source": [
    "total_num_ob = np.sum(shape_list, axis=0)"
   ]
  },
  {
   "cell_type": "code",
   "execution_count": 12,
   "metadata": {},
   "outputs": [
    {
     "output_type": "execute_result",
     "data": {
      "text/plain": [
       "array([ 219729, 1133584])"
      ]
     },
     "metadata": {},
     "execution_count": 12
    }
   ],
   "source": [
    "total_num_ob"
   ]
  },
  {
   "cell_type": "code",
   "execution_count": 14,
   "metadata": {},
   "outputs": [],
   "source": [
    "import h5py"
   ]
  },
  {
   "cell_type": "code",
   "execution_count": 16,
   "metadata": {},
   "outputs": [],
   "source": [
    "f = h5py.File('/home/jay/Downloads/ACTINN-master/test_data/train_set.h5', 'r')"
   ]
  },
  {
   "cell_type": "code",
   "execution_count": 17,
   "metadata": {},
   "outputs": [
    {
     "output_type": "execute_result",
     "data": {
      "text/plain": [
       "<KeysViewHDF5 ['dge']>"
      ]
     },
     "metadata": {},
     "execution_count": 17
    }
   ],
   "source": [
    "f.keys()"
   ]
  },
  {
   "cell_type": "code",
   "execution_count": 20,
   "metadata": {},
   "outputs": [
    {
     "output_type": "execute_result",
     "data": {
      "text/plain": [
       "<HDF5 group \"/dge\" (4 members)>"
      ]
     },
     "metadata": {},
     "execution_count": 20
    }
   ],
   "source": [
    "f['dge']"
   ]
  },
  {
   "cell_type": "code",
   "execution_count": 22,
   "metadata": {},
   "outputs": [
    {
     "output_type": "execute_result",
     "data": {
      "text/plain": [
       "<KeysViewHDF5 ['axis0', 'axis1', 'block0_items', 'block0_values']>"
      ]
     },
     "metadata": {},
     "execution_count": 22
    }
   ],
   "source": [
    "f['dge'].keys()"
   ]
  },
  {
   "cell_type": "code",
   "execution_count": 29,
   "metadata": {},
   "outputs": [
    {
     "output_type": "execute_result",
     "data": {
      "text/plain": [
       "array([b'tma_mfd_1808', b'tma_mfd_32608', b'tma_mfd_2589',\n",
       "       b'tma_mfd_13999', b'tma_mfd_2621', b'tma_mfd_5055', b'tma_mfd_796',\n",
       "       b'tma_mfd_26185', b'tma_mfd_30053', b'tma_mfd_8084'], dtype='|S13')"
      ]
     },
     "metadata": {},
     "execution_count": 29
    }
   ],
   "source": [
    "f['dge']['axis0'][:10]"
   ]
  },
  {
   "cell_type": "code",
   "execution_count": 28,
   "metadata": {},
   "outputs": [
    {
     "output_type": "execute_result",
     "data": {
      "text/plain": [
       "array([b'0610005C13Rik', b'0610007C21Rik', b'0610007L01Rik',\n",
       "       b'0610007N19Rik', b'0610007P08Rik', b'0610007P14Rik',\n",
       "       b'0610007P22Rik', b'0610009B22Rik', b'0610009D07Rik',\n",
       "       b'0610009L18Rik'], dtype='|S14')"
      ]
     },
     "metadata": {},
     "execution_count": 28
    }
   ],
   "source": [
    "f['dge']['axis1'][:10]"
   ]
  },
  {
   "cell_type": "code",
   "execution_count": 27,
   "metadata": {},
   "outputs": [
    {
     "output_type": "execute_result",
     "data": {
      "text/plain": [
       "array([b'tma_mfd_1808', b'tma_mfd_32608', b'tma_mfd_2589',\n",
       "       b'tma_mfd_13999', b'tma_mfd_2621', b'tma_mfd_5055', b'tma_mfd_796',\n",
       "       b'tma_mfd_26185', b'tma_mfd_30053', b'tma_mfd_8084'], dtype='|S13')"
      ]
     },
     "metadata": {},
     "execution_count": 27
    }
   ],
   "source": [
    "f['dge']['block0_items'][:10]"
   ]
  },
  {
   "cell_type": "code",
   "execution_count": 30,
   "metadata": {},
   "outputs": [
    {
     "output_type": "execute_result",
     "data": {
      "text/plain": [
       "array([[0., 0., 0., ..., 0., 0., 0.],\n",
       "       [0., 0., 0., ..., 1., 0., 1.],\n",
       "       [1., 0., 1., ..., 0., 1., 0.],\n",
       "       ...,\n",
       "       [0., 0., 0., ..., 0., 1., 0.],\n",
       "       [2., 1., 0., ..., 0., 5., 1.],\n",
       "       [0., 0., 0., ..., 0., 0., 0.]])"
      ]
     },
     "metadata": {},
     "execution_count": 30
    }
   ],
   "source": [
    "f['dge']['block0_values'][:10]"
   ]
  },
  {
   "cell_type": "code",
   "execution_count": 45,
   "metadata": {},
   "outputs": [],
   "source": [
    "tmp_df = pd.read_csv('/home/jay/Documents/projects/todo_files/ml_final_pro/datasets/processed_dge/Bladder_1.csv')"
   ]
  },
  {
   "cell_type": "code",
   "execution_count": 46,
   "metadata": {},
   "outputs": [
    {
     "output_type": "execute_result",
     "data": {
      "text/plain": [
       "                        Unnamed: 0  0610007P14Rik  0610009B22Rik  \\\n",
       "0     Bladder_1.CCATCTAGCGAGTTTAGG              1              0   \n",
       "1     Bladder_1.GAGGAGCGCTTGATACAG              1              3   \n",
       "2     Bladder_1.CCAGACACAATAGAATTA              1              0   \n",
       "3     Bladder_1.CCGACGGGACATATGGCG              1              0   \n",
       "4     Bladder_1.TAGCATTCAAAGATTCCA              1              3   \n",
       "...                            ...            ...            ...   \n",
       "2741  Bladder_1.AAAACGCAACAAGGGCGA              0              0   \n",
       "2742  Bladder_1.TTAACTGAGGAGGGGCGA              0              0   \n",
       "2743  Bladder_1.GAGTCGGTCGGTATCAAC              0              0   \n",
       "2744  Bladder_1.CCAGACCATGATAAGTAC              0              0   \n",
       "2745  Bladder_1.CAACAAAGATGGTTTAGG              0              0   \n",
       "\n",
       "      0610009E02Rik  0610009L18Rik  0610009O20Rik  0610010F05Rik  \\\n",
       "0                 0              0              0              0   \n",
       "1                 0              0              0              0   \n",
       "2                 1              0              0              0   \n",
       "3                 0              0              1              0   \n",
       "4                 0              1              0              0   \n",
       "...             ...            ...            ...            ...   \n",
       "2741              0              0              0              0   \n",
       "2742              0              0              0              0   \n",
       "2743              0              0              0              0   \n",
       "2744              0              0              0              0   \n",
       "2745              0              0              0              0   \n",
       "\n",
       "      0610010K14Rik  0610012G03Rik  0610025J13Rik  ...  n-R5s195  n-R5s21  \\\n",
       "0                 0              2              0  ...         0        0   \n",
       "1                 0              2              0  ...         0        0   \n",
       "2                 0              5              0  ...         0        0   \n",
       "3                 0              1              0  ...         0        0   \n",
       "4                 0              7              0  ...         0        0   \n",
       "...             ...            ...            ...  ...       ...      ...   \n",
       "2741              0              0              0  ...         0        0   \n",
       "2742              0              0              0  ...         0        0   \n",
       "2743              0              0              0  ...         0        0   \n",
       "2744              0              0              0  ...         0        0   \n",
       "2745              0              0              0  ...         0        0   \n",
       "\n",
       "      n-R5s25  n-R5s28  n-R5s33  n-R5s77  n-R5s96  n-TStga1  target_id  \\\n",
       "0           0        0        0        0        0         0          9   \n",
       "1           0        0        0        0        0         0          9   \n",
       "2           0        0        0        0        0         0          9   \n",
       "3           0        0        0        0        0         0          9   \n",
       "4           0        0        0        0        0         0          9   \n",
       "...       ...      ...      ...      ...      ...       ...        ...   \n",
       "2741        0        0        0        0        0         0          4   \n",
       "2742        0        0        0        0        0         0          4   \n",
       "2743        0        0        0        0        0         0          6   \n",
       "2744        0        0        0        0        0         0          4   \n",
       "2745        0        0        0        0        0         0          4   \n",
       "\n",
       "                      annotation  \n",
       "0                  Umbrella cell  \n",
       "1                  Umbrella cell  \n",
       "2                  Umbrella cell  \n",
       "3                  Umbrella cell  \n",
       "4                  Umbrella cell  \n",
       "...                          ...  \n",
       "2741                  Urothelium  \n",
       "2742                  Urothelium  \n",
       "2743  Epithelial cell_Upk3a high  \n",
       "2744                  Urothelium  \n",
       "2745                  Urothelium  \n",
       "\n",
       "[2746 rows x 20673 columns]"
      ],
      "text/html": "<div>\n<style scoped>\n    .dataframe tbody tr th:only-of-type {\n        vertical-align: middle;\n    }\n\n    .dataframe tbody tr th {\n        vertical-align: top;\n    }\n\n    .dataframe thead th {\n        text-align: right;\n    }\n</style>\n<table border=\"1\" class=\"dataframe\">\n  <thead>\n    <tr style=\"text-align: right;\">\n      <th></th>\n      <th>Unnamed: 0</th>\n      <th>0610007P14Rik</th>\n      <th>0610009B22Rik</th>\n      <th>0610009E02Rik</th>\n      <th>0610009L18Rik</th>\n      <th>0610009O20Rik</th>\n      <th>0610010F05Rik</th>\n      <th>0610010K14Rik</th>\n      <th>0610012G03Rik</th>\n      <th>0610025J13Rik</th>\n      <th>...</th>\n      <th>n-R5s195</th>\n      <th>n-R5s21</th>\n      <th>n-R5s25</th>\n      <th>n-R5s28</th>\n      <th>n-R5s33</th>\n      <th>n-R5s77</th>\n      <th>n-R5s96</th>\n      <th>n-TStga1</th>\n      <th>target_id</th>\n      <th>annotation</th>\n    </tr>\n  </thead>\n  <tbody>\n    <tr>\n      <th>0</th>\n      <td>Bladder_1.CCATCTAGCGAGTTTAGG</td>\n      <td>1</td>\n      <td>0</td>\n      <td>0</td>\n      <td>0</td>\n      <td>0</td>\n      <td>0</td>\n      <td>0</td>\n      <td>2</td>\n      <td>0</td>\n      <td>...</td>\n      <td>0</td>\n      <td>0</td>\n      <td>0</td>\n      <td>0</td>\n      <td>0</td>\n      <td>0</td>\n      <td>0</td>\n      <td>0</td>\n      <td>9</td>\n      <td>Umbrella cell</td>\n    </tr>\n    <tr>\n      <th>1</th>\n      <td>Bladder_1.GAGGAGCGCTTGATACAG</td>\n      <td>1</td>\n      <td>3</td>\n      <td>0</td>\n      <td>0</td>\n      <td>0</td>\n      <td>0</td>\n      <td>0</td>\n      <td>2</td>\n      <td>0</td>\n      <td>...</td>\n      <td>0</td>\n      <td>0</td>\n      <td>0</td>\n      <td>0</td>\n      <td>0</td>\n      <td>0</td>\n      <td>0</td>\n      <td>0</td>\n      <td>9</td>\n      <td>Umbrella cell</td>\n    </tr>\n    <tr>\n      <th>2</th>\n      <td>Bladder_1.CCAGACACAATAGAATTA</td>\n      <td>1</td>\n      <td>0</td>\n      <td>1</td>\n      <td>0</td>\n      <td>0</td>\n      <td>0</td>\n      <td>0</td>\n      <td>5</td>\n      <td>0</td>\n      <td>...</td>\n      <td>0</td>\n      <td>0</td>\n      <td>0</td>\n      <td>0</td>\n      <td>0</td>\n      <td>0</td>\n      <td>0</td>\n      <td>0</td>\n      <td>9</td>\n      <td>Umbrella cell</td>\n    </tr>\n    <tr>\n      <th>3</th>\n      <td>Bladder_1.CCGACGGGACATATGGCG</td>\n      <td>1</td>\n      <td>0</td>\n      <td>0</td>\n      <td>0</td>\n      <td>1</td>\n      <td>0</td>\n      <td>0</td>\n      <td>1</td>\n      <td>0</td>\n      <td>...</td>\n      <td>0</td>\n      <td>0</td>\n      <td>0</td>\n      <td>0</td>\n      <td>0</td>\n      <td>0</td>\n      <td>0</td>\n      <td>0</td>\n      <td>9</td>\n      <td>Umbrella cell</td>\n    </tr>\n    <tr>\n      <th>4</th>\n      <td>Bladder_1.TAGCATTCAAAGATTCCA</td>\n      <td>1</td>\n      <td>3</td>\n      <td>0</td>\n      <td>1</td>\n      <td>0</td>\n      <td>0</td>\n      <td>0</td>\n      <td>7</td>\n      <td>0</td>\n      <td>...</td>\n      <td>0</td>\n      <td>0</td>\n      <td>0</td>\n      <td>0</td>\n      <td>0</td>\n      <td>0</td>\n      <td>0</td>\n      <td>0</td>\n      <td>9</td>\n      <td>Umbrella cell</td>\n    </tr>\n    <tr>\n      <th>...</th>\n      <td>...</td>\n      <td>...</td>\n      <td>...</td>\n      <td>...</td>\n      <td>...</td>\n      <td>...</td>\n      <td>...</td>\n      <td>...</td>\n      <td>...</td>\n      <td>...</td>\n      <td>...</td>\n      <td>...</td>\n      <td>...</td>\n      <td>...</td>\n      <td>...</td>\n      <td>...</td>\n      <td>...</td>\n      <td>...</td>\n      <td>...</td>\n      <td>...</td>\n      <td>...</td>\n    </tr>\n    <tr>\n      <th>2741</th>\n      <td>Bladder_1.AAAACGCAACAAGGGCGA</td>\n      <td>0</td>\n      <td>0</td>\n      <td>0</td>\n      <td>0</td>\n      <td>0</td>\n      <td>0</td>\n      <td>0</td>\n      <td>0</td>\n      <td>0</td>\n      <td>...</td>\n      <td>0</td>\n      <td>0</td>\n      <td>0</td>\n      <td>0</td>\n      <td>0</td>\n      <td>0</td>\n      <td>0</td>\n      <td>0</td>\n      <td>4</td>\n      <td>Urothelium</td>\n    </tr>\n    <tr>\n      <th>2742</th>\n      <td>Bladder_1.TTAACTGAGGAGGGGCGA</td>\n      <td>0</td>\n      <td>0</td>\n      <td>0</td>\n      <td>0</td>\n      <td>0</td>\n      <td>0</td>\n      <td>0</td>\n      <td>0</td>\n      <td>0</td>\n      <td>...</td>\n      <td>0</td>\n      <td>0</td>\n      <td>0</td>\n      <td>0</td>\n      <td>0</td>\n      <td>0</td>\n      <td>0</td>\n      <td>0</td>\n      <td>4</td>\n      <td>Urothelium</td>\n    </tr>\n    <tr>\n      <th>2743</th>\n      <td>Bladder_1.GAGTCGGTCGGTATCAAC</td>\n      <td>0</td>\n      <td>0</td>\n      <td>0</td>\n      <td>0</td>\n      <td>0</td>\n      <td>0</td>\n      <td>0</td>\n      <td>0</td>\n      <td>0</td>\n      <td>...</td>\n      <td>0</td>\n      <td>0</td>\n      <td>0</td>\n      <td>0</td>\n      <td>0</td>\n      <td>0</td>\n      <td>0</td>\n      <td>0</td>\n      <td>6</td>\n      <td>Epithelial cell_Upk3a high</td>\n    </tr>\n    <tr>\n      <th>2744</th>\n      <td>Bladder_1.CCAGACCATGATAAGTAC</td>\n      <td>0</td>\n      <td>0</td>\n      <td>0</td>\n      <td>0</td>\n      <td>0</td>\n      <td>0</td>\n      <td>0</td>\n      <td>0</td>\n      <td>0</td>\n      <td>...</td>\n      <td>0</td>\n      <td>0</td>\n      <td>0</td>\n      <td>0</td>\n      <td>0</td>\n      <td>0</td>\n      <td>0</td>\n      <td>0</td>\n      <td>4</td>\n      <td>Urothelium</td>\n    </tr>\n    <tr>\n      <th>2745</th>\n      <td>Bladder_1.CAACAAAGATGGTTTAGG</td>\n      <td>0</td>\n      <td>0</td>\n      <td>0</td>\n      <td>0</td>\n      <td>0</td>\n      <td>0</td>\n      <td>0</td>\n      <td>0</td>\n      <td>0</td>\n      <td>...</td>\n      <td>0</td>\n      <td>0</td>\n      <td>0</td>\n      <td>0</td>\n      <td>0</td>\n      <td>0</td>\n      <td>0</td>\n      <td>0</td>\n      <td>4</td>\n      <td>Urothelium</td>\n    </tr>\n  </tbody>\n</table>\n<p>2746 rows × 20673 columns</p>\n</div>"
     },
     "metadata": {},
     "execution_count": 46
    }
   ],
   "source": [
    "tmp_df"
   ]
  },
  {
   "cell_type": "code",
   "execution_count": 47,
   "metadata": {},
   "outputs": [
    {
     "output_type": "execute_result",
     "data": {
      "text/plain": [
       "      0610007P14Rik  0610009B22Rik  0610009E02Rik  0610009L18Rik  \\\n",
       "0                 1              0              0              0   \n",
       "1                 1              3              0              0   \n",
       "2                 1              0              1              0   \n",
       "3                 1              0              0              0   \n",
       "4                 1              3              0              1   \n",
       "...             ...            ...            ...            ...   \n",
       "2741              0              0              0              0   \n",
       "2742              0              0              0              0   \n",
       "2743              0              0              0              0   \n",
       "2744              0              0              0              0   \n",
       "2745              0              0              0              0   \n",
       "\n",
       "      0610009O20Rik  0610010F05Rik  0610010K14Rik  0610012G03Rik  \\\n",
       "0                 0              0              0              2   \n",
       "1                 0              0              0              2   \n",
       "2                 0              0              0              5   \n",
       "3                 1              0              0              1   \n",
       "4                 0              0              0              7   \n",
       "...             ...            ...            ...            ...   \n",
       "2741              0              0              0              0   \n",
       "2742              0              0              0              0   \n",
       "2743              0              0              0              0   \n",
       "2744              0              0              0              0   \n",
       "2745              0              0              0              0   \n",
       "\n",
       "      0610025J13Rik  0610030E20Rik  ...  n-R5s102  n-R5s151  n-R5s195  \\\n",
       "0                 0              1  ...         0         0         0   \n",
       "1                 0              1  ...         0         0         0   \n",
       "2                 0              0  ...         0         0         0   \n",
       "3                 0              0  ...         0         0         0   \n",
       "4                 0              1  ...         0         0         0   \n",
       "...             ...            ...  ...       ...       ...       ...   \n",
       "2741              0              0  ...         0         0         0   \n",
       "2742              0              1  ...         0         0         0   \n",
       "2743              0              0  ...         0         0         0   \n",
       "2744              0              0  ...         0         0         0   \n",
       "2745              0              0  ...         0         0         0   \n",
       "\n",
       "      n-R5s21  n-R5s25  n-R5s28  n-R5s33  n-R5s77  n-R5s96  n-TStga1  \n",
       "0           0        0        0        0        0        0         0  \n",
       "1           0        0        0        0        0        0         0  \n",
       "2           0        0        0        0        0        0         0  \n",
       "3           0        0        0        0        0        0         0  \n",
       "4           0        0        0        0        0        0         0  \n",
       "...       ...      ...      ...      ...      ...      ...       ...  \n",
       "2741        0        0        0        0        0        0         0  \n",
       "2742        0        0        0        0        0        0         0  \n",
       "2743        0        0        0        0        0        0         0  \n",
       "2744        0        0        0        0        0        0         0  \n",
       "2745        0        0        0        0        0        0         0  \n",
       "\n",
       "[2746 rows x 20670 columns]"
      ],
      "text/html": "<div>\n<style scoped>\n    .dataframe tbody tr th:only-of-type {\n        vertical-align: middle;\n    }\n\n    .dataframe tbody tr th {\n        vertical-align: top;\n    }\n\n    .dataframe thead th {\n        text-align: right;\n    }\n</style>\n<table border=\"1\" class=\"dataframe\">\n  <thead>\n    <tr style=\"text-align: right;\">\n      <th></th>\n      <th>0610007P14Rik</th>\n      <th>0610009B22Rik</th>\n      <th>0610009E02Rik</th>\n      <th>0610009L18Rik</th>\n      <th>0610009O20Rik</th>\n      <th>0610010F05Rik</th>\n      <th>0610010K14Rik</th>\n      <th>0610012G03Rik</th>\n      <th>0610025J13Rik</th>\n      <th>0610030E20Rik</th>\n      <th>...</th>\n      <th>n-R5s102</th>\n      <th>n-R5s151</th>\n      <th>n-R5s195</th>\n      <th>n-R5s21</th>\n      <th>n-R5s25</th>\n      <th>n-R5s28</th>\n      <th>n-R5s33</th>\n      <th>n-R5s77</th>\n      <th>n-R5s96</th>\n      <th>n-TStga1</th>\n    </tr>\n  </thead>\n  <tbody>\n    <tr>\n      <th>0</th>\n      <td>1</td>\n      <td>0</td>\n      <td>0</td>\n      <td>0</td>\n      <td>0</td>\n      <td>0</td>\n      <td>0</td>\n      <td>2</td>\n      <td>0</td>\n      <td>1</td>\n      <td>...</td>\n      <td>0</td>\n      <td>0</td>\n      <td>0</td>\n      <td>0</td>\n      <td>0</td>\n      <td>0</td>\n      <td>0</td>\n      <td>0</td>\n      <td>0</td>\n      <td>0</td>\n    </tr>\n    <tr>\n      <th>1</th>\n      <td>1</td>\n      <td>3</td>\n      <td>0</td>\n      <td>0</td>\n      <td>0</td>\n      <td>0</td>\n      <td>0</td>\n      <td>2</td>\n      <td>0</td>\n      <td>1</td>\n      <td>...</td>\n      <td>0</td>\n      <td>0</td>\n      <td>0</td>\n      <td>0</td>\n      <td>0</td>\n      <td>0</td>\n      <td>0</td>\n      <td>0</td>\n      <td>0</td>\n      <td>0</td>\n    </tr>\n    <tr>\n      <th>2</th>\n      <td>1</td>\n      <td>0</td>\n      <td>1</td>\n      <td>0</td>\n      <td>0</td>\n      <td>0</td>\n      <td>0</td>\n      <td>5</td>\n      <td>0</td>\n      <td>0</td>\n      <td>...</td>\n      <td>0</td>\n      <td>0</td>\n      <td>0</td>\n      <td>0</td>\n      <td>0</td>\n      <td>0</td>\n      <td>0</td>\n      <td>0</td>\n      <td>0</td>\n      <td>0</td>\n    </tr>\n    <tr>\n      <th>3</th>\n      <td>1</td>\n      <td>0</td>\n      <td>0</td>\n      <td>0</td>\n      <td>1</td>\n      <td>0</td>\n      <td>0</td>\n      <td>1</td>\n      <td>0</td>\n      <td>0</td>\n      <td>...</td>\n      <td>0</td>\n      <td>0</td>\n      <td>0</td>\n      <td>0</td>\n      <td>0</td>\n      <td>0</td>\n      <td>0</td>\n      <td>0</td>\n      <td>0</td>\n      <td>0</td>\n    </tr>\n    <tr>\n      <th>4</th>\n      <td>1</td>\n      <td>3</td>\n      <td>0</td>\n      <td>1</td>\n      <td>0</td>\n      <td>0</td>\n      <td>0</td>\n      <td>7</td>\n      <td>0</td>\n      <td>1</td>\n      <td>...</td>\n      <td>0</td>\n      <td>0</td>\n      <td>0</td>\n      <td>0</td>\n      <td>0</td>\n      <td>0</td>\n      <td>0</td>\n      <td>0</td>\n      <td>0</td>\n      <td>0</td>\n    </tr>\n    <tr>\n      <th>...</th>\n      <td>...</td>\n      <td>...</td>\n      <td>...</td>\n      <td>...</td>\n      <td>...</td>\n      <td>...</td>\n      <td>...</td>\n      <td>...</td>\n      <td>...</td>\n      <td>...</td>\n      <td>...</td>\n      <td>...</td>\n      <td>...</td>\n      <td>...</td>\n      <td>...</td>\n      <td>...</td>\n      <td>...</td>\n      <td>...</td>\n      <td>...</td>\n      <td>...</td>\n      <td>...</td>\n    </tr>\n    <tr>\n      <th>2741</th>\n      <td>0</td>\n      <td>0</td>\n      <td>0</td>\n      <td>0</td>\n      <td>0</td>\n      <td>0</td>\n      <td>0</td>\n      <td>0</td>\n      <td>0</td>\n      <td>0</td>\n      <td>...</td>\n      <td>0</td>\n      <td>0</td>\n      <td>0</td>\n      <td>0</td>\n      <td>0</td>\n      <td>0</td>\n      <td>0</td>\n      <td>0</td>\n      <td>0</td>\n      <td>0</td>\n    </tr>\n    <tr>\n      <th>2742</th>\n      <td>0</td>\n      <td>0</td>\n      <td>0</td>\n      <td>0</td>\n      <td>0</td>\n      <td>0</td>\n      <td>0</td>\n      <td>0</td>\n      <td>0</td>\n      <td>1</td>\n      <td>...</td>\n      <td>0</td>\n      <td>0</td>\n      <td>0</td>\n      <td>0</td>\n      <td>0</td>\n      <td>0</td>\n      <td>0</td>\n      <td>0</td>\n      <td>0</td>\n      <td>0</td>\n    </tr>\n    <tr>\n      <th>2743</th>\n      <td>0</td>\n      <td>0</td>\n      <td>0</td>\n      <td>0</td>\n      <td>0</td>\n      <td>0</td>\n      <td>0</td>\n      <td>0</td>\n      <td>0</td>\n      <td>0</td>\n      <td>...</td>\n      <td>0</td>\n      <td>0</td>\n      <td>0</td>\n      <td>0</td>\n      <td>0</td>\n      <td>0</td>\n      <td>0</td>\n      <td>0</td>\n      <td>0</td>\n      <td>0</td>\n    </tr>\n    <tr>\n      <th>2744</th>\n      <td>0</td>\n      <td>0</td>\n      <td>0</td>\n      <td>0</td>\n      <td>0</td>\n      <td>0</td>\n      <td>0</td>\n      <td>0</td>\n      <td>0</td>\n      <td>0</td>\n      <td>...</td>\n      <td>0</td>\n      <td>0</td>\n      <td>0</td>\n      <td>0</td>\n      <td>0</td>\n      <td>0</td>\n      <td>0</td>\n      <td>0</td>\n      <td>0</td>\n      <td>0</td>\n    </tr>\n    <tr>\n      <th>2745</th>\n      <td>0</td>\n      <td>0</td>\n      <td>0</td>\n      <td>0</td>\n      <td>0</td>\n      <td>0</td>\n      <td>0</td>\n      <td>0</td>\n      <td>0</td>\n      <td>0</td>\n      <td>...</td>\n      <td>0</td>\n      <td>0</td>\n      <td>0</td>\n      <td>0</td>\n      <td>0</td>\n      <td>0</td>\n      <td>0</td>\n      <td>0</td>\n      <td>0</td>\n      <td>0</td>\n    </tr>\n  </tbody>\n</table>\n<p>2746 rows × 20670 columns</p>\n</div>"
     },
     "metadata": {},
     "execution_count": 47
    }
   ],
   "source": [
    "# exclude the target_id and target annotation\n",
    "tmp_df.iloc[:,1:-2]"
   ]
  },
  {
   "cell_type": "code",
   "execution_count": 48,
   "metadata": {},
   "outputs": [],
   "source": [
    "tmp_df.iloc[:,1:-2] = tmp_df.iloc[:,1:-2].mask(tmp_df.iloc[:,1:-2] > 1, 1)"
   ]
  },
  {
   "cell_type": "code",
   "execution_count": 49,
   "metadata": {},
   "outputs": [
    {
     "output_type": "execute_result",
     "data": {
      "text/plain": [
       "      0610007P14Rik  0610009B22Rik  0610009E02Rik  0610009L18Rik  \\\n",
       "0                 1              0              0              0   \n",
       "1                 1              1              0              0   \n",
       "2                 1              0              1              0   \n",
       "3                 1              0              0              0   \n",
       "4                 1              1              0              1   \n",
       "...             ...            ...            ...            ...   \n",
       "2741              0              0              0              0   \n",
       "2742              0              0              0              0   \n",
       "2743              0              0              0              0   \n",
       "2744              0              0              0              0   \n",
       "2745              0              0              0              0   \n",
       "\n",
       "      0610009O20Rik  0610010F05Rik  0610010K14Rik  0610012G03Rik  \\\n",
       "0                 0              0              0              1   \n",
       "1                 0              0              0              1   \n",
       "2                 0              0              0              1   \n",
       "3                 1              0              0              1   \n",
       "4                 0              0              0              1   \n",
       "...             ...            ...            ...            ...   \n",
       "2741              0              0              0              0   \n",
       "2742              0              0              0              0   \n",
       "2743              0              0              0              0   \n",
       "2744              0              0              0              0   \n",
       "2745              0              0              0              0   \n",
       "\n",
       "      0610025J13Rik  0610030E20Rik  ...  n-R5s102  n-R5s151  n-R5s195  \\\n",
       "0                 0              1  ...         0         0         0   \n",
       "1                 0              1  ...         0         0         0   \n",
       "2                 0              0  ...         0         0         0   \n",
       "3                 0              0  ...         0         0         0   \n",
       "4                 0              1  ...         0         0         0   \n",
       "...             ...            ...  ...       ...       ...       ...   \n",
       "2741              0              0  ...         0         0         0   \n",
       "2742              0              1  ...         0         0         0   \n",
       "2743              0              0  ...         0         0         0   \n",
       "2744              0              0  ...         0         0         0   \n",
       "2745              0              0  ...         0         0         0   \n",
       "\n",
       "      n-R5s21  n-R5s25  n-R5s28  n-R5s33  n-R5s77  n-R5s96  n-TStga1  \n",
       "0           0        0        0        0        0        0         0  \n",
       "1           0        0        0        0        0        0         0  \n",
       "2           0        0        0        0        0        0         0  \n",
       "3           0        0        0        0        0        0         0  \n",
       "4           0        0        0        0        0        0         0  \n",
       "...       ...      ...      ...      ...      ...      ...       ...  \n",
       "2741        0        0        0        0        0        0         0  \n",
       "2742        0        0        0        0        0        0         0  \n",
       "2743        0        0        0        0        0        0         0  \n",
       "2744        0        0        0        0        0        0         0  \n",
       "2745        0        0        0        0        0        0         0  \n",
       "\n",
       "[2746 rows x 20670 columns]"
      ],
      "text/html": "<div>\n<style scoped>\n    .dataframe tbody tr th:only-of-type {\n        vertical-align: middle;\n    }\n\n    .dataframe tbody tr th {\n        vertical-align: top;\n    }\n\n    .dataframe thead th {\n        text-align: right;\n    }\n</style>\n<table border=\"1\" class=\"dataframe\">\n  <thead>\n    <tr style=\"text-align: right;\">\n      <th></th>\n      <th>0610007P14Rik</th>\n      <th>0610009B22Rik</th>\n      <th>0610009E02Rik</th>\n      <th>0610009L18Rik</th>\n      <th>0610009O20Rik</th>\n      <th>0610010F05Rik</th>\n      <th>0610010K14Rik</th>\n      <th>0610012G03Rik</th>\n      <th>0610025J13Rik</th>\n      <th>0610030E20Rik</th>\n      <th>...</th>\n      <th>n-R5s102</th>\n      <th>n-R5s151</th>\n      <th>n-R5s195</th>\n      <th>n-R5s21</th>\n      <th>n-R5s25</th>\n      <th>n-R5s28</th>\n      <th>n-R5s33</th>\n      <th>n-R5s77</th>\n      <th>n-R5s96</th>\n      <th>n-TStga1</th>\n    </tr>\n  </thead>\n  <tbody>\n    <tr>\n      <th>0</th>\n      <td>1</td>\n      <td>0</td>\n      <td>0</td>\n      <td>0</td>\n      <td>0</td>\n      <td>0</td>\n      <td>0</td>\n      <td>1</td>\n      <td>0</td>\n      <td>1</td>\n      <td>...</td>\n      <td>0</td>\n      <td>0</td>\n      <td>0</td>\n      <td>0</td>\n      <td>0</td>\n      <td>0</td>\n      <td>0</td>\n      <td>0</td>\n      <td>0</td>\n      <td>0</td>\n    </tr>\n    <tr>\n      <th>1</th>\n      <td>1</td>\n      <td>1</td>\n      <td>0</td>\n      <td>0</td>\n      <td>0</td>\n      <td>0</td>\n      <td>0</td>\n      <td>1</td>\n      <td>0</td>\n      <td>1</td>\n      <td>...</td>\n      <td>0</td>\n      <td>0</td>\n      <td>0</td>\n      <td>0</td>\n      <td>0</td>\n      <td>0</td>\n      <td>0</td>\n      <td>0</td>\n      <td>0</td>\n      <td>0</td>\n    </tr>\n    <tr>\n      <th>2</th>\n      <td>1</td>\n      <td>0</td>\n      <td>1</td>\n      <td>0</td>\n      <td>0</td>\n      <td>0</td>\n      <td>0</td>\n      <td>1</td>\n      <td>0</td>\n      <td>0</td>\n      <td>...</td>\n      <td>0</td>\n      <td>0</td>\n      <td>0</td>\n      <td>0</td>\n      <td>0</td>\n      <td>0</td>\n      <td>0</td>\n      <td>0</td>\n      <td>0</td>\n      <td>0</td>\n    </tr>\n    <tr>\n      <th>3</th>\n      <td>1</td>\n      <td>0</td>\n      <td>0</td>\n      <td>0</td>\n      <td>1</td>\n      <td>0</td>\n      <td>0</td>\n      <td>1</td>\n      <td>0</td>\n      <td>0</td>\n      <td>...</td>\n      <td>0</td>\n      <td>0</td>\n      <td>0</td>\n      <td>0</td>\n      <td>0</td>\n      <td>0</td>\n      <td>0</td>\n      <td>0</td>\n      <td>0</td>\n      <td>0</td>\n    </tr>\n    <tr>\n      <th>4</th>\n      <td>1</td>\n      <td>1</td>\n      <td>0</td>\n      <td>1</td>\n      <td>0</td>\n      <td>0</td>\n      <td>0</td>\n      <td>1</td>\n      <td>0</td>\n      <td>1</td>\n      <td>...</td>\n      <td>0</td>\n      <td>0</td>\n      <td>0</td>\n      <td>0</td>\n      <td>0</td>\n      <td>0</td>\n      <td>0</td>\n      <td>0</td>\n      <td>0</td>\n      <td>0</td>\n    </tr>\n    <tr>\n      <th>...</th>\n      <td>...</td>\n      <td>...</td>\n      <td>...</td>\n      <td>...</td>\n      <td>...</td>\n      <td>...</td>\n      <td>...</td>\n      <td>...</td>\n      <td>...</td>\n      <td>...</td>\n      <td>...</td>\n      <td>...</td>\n      <td>...</td>\n      <td>...</td>\n      <td>...</td>\n      <td>...</td>\n      <td>...</td>\n      <td>...</td>\n      <td>...</td>\n      <td>...</td>\n      <td>...</td>\n    </tr>\n    <tr>\n      <th>2741</th>\n      <td>0</td>\n      <td>0</td>\n      <td>0</td>\n      <td>0</td>\n      <td>0</td>\n      <td>0</td>\n      <td>0</td>\n      <td>0</td>\n      <td>0</td>\n      <td>0</td>\n      <td>...</td>\n      <td>0</td>\n      <td>0</td>\n      <td>0</td>\n      <td>0</td>\n      <td>0</td>\n      <td>0</td>\n      <td>0</td>\n      <td>0</td>\n      <td>0</td>\n      <td>0</td>\n    </tr>\n    <tr>\n      <th>2742</th>\n      <td>0</td>\n      <td>0</td>\n      <td>0</td>\n      <td>0</td>\n      <td>0</td>\n      <td>0</td>\n      <td>0</td>\n      <td>0</td>\n      <td>0</td>\n      <td>1</td>\n      <td>...</td>\n      <td>0</td>\n      <td>0</td>\n      <td>0</td>\n      <td>0</td>\n      <td>0</td>\n      <td>0</td>\n      <td>0</td>\n      <td>0</td>\n      <td>0</td>\n      <td>0</td>\n    </tr>\n    <tr>\n      <th>2743</th>\n      <td>0</td>\n      <td>0</td>\n      <td>0</td>\n      <td>0</td>\n      <td>0</td>\n      <td>0</td>\n      <td>0</td>\n      <td>0</td>\n      <td>0</td>\n      <td>0</td>\n      <td>...</td>\n      <td>0</td>\n      <td>0</td>\n      <td>0</td>\n      <td>0</td>\n      <td>0</td>\n      <td>0</td>\n      <td>0</td>\n      <td>0</td>\n      <td>0</td>\n      <td>0</td>\n    </tr>\n    <tr>\n      <th>2744</th>\n      <td>0</td>\n      <td>0</td>\n      <td>0</td>\n      <td>0</td>\n      <td>0</td>\n      <td>0</td>\n      <td>0</td>\n      <td>0</td>\n      <td>0</td>\n      <td>0</td>\n      <td>...</td>\n      <td>0</td>\n      <td>0</td>\n      <td>0</td>\n      <td>0</td>\n      <td>0</td>\n      <td>0</td>\n      <td>0</td>\n      <td>0</td>\n      <td>0</td>\n      <td>0</td>\n    </tr>\n    <tr>\n      <th>2745</th>\n      <td>0</td>\n      <td>0</td>\n      <td>0</td>\n      <td>0</td>\n      <td>0</td>\n      <td>0</td>\n      <td>0</td>\n      <td>0</td>\n      <td>0</td>\n      <td>0</td>\n      <td>...</td>\n      <td>0</td>\n      <td>0</td>\n      <td>0</td>\n      <td>0</td>\n      <td>0</td>\n      <td>0</td>\n      <td>0</td>\n      <td>0</td>\n      <td>0</td>\n      <td>0</td>\n    </tr>\n  </tbody>\n</table>\n<p>2746 rows × 20670 columns</p>\n</div>"
     },
     "metadata": {},
     "execution_count": 49
    }
   ],
   "source": [
    "tmp_df.iloc[:,1:-2]"
   ]
  },
  {
   "cell_type": "code",
   "execution_count": 57,
   "metadata": {},
   "outputs": [
    {
     "output_type": "execute_result",
     "data": {
      "text/plain": [
       "(array([], dtype=int64), array([], dtype=int64))"
      ]
     },
     "metadata": {},
     "execution_count": 57
    }
   ],
   "source": [
    "np.where(tmp_df.iloc[:,1:-2] > 1.0)"
   ]
  },
  {
   "cell_type": "code",
   "execution_count": 3,
   "metadata": {},
   "outputs": [],
   "source": [
    "new_pre_process_dir = '../../datasets/pre_processed_datasets'"
   ]
  },
  {
   "cell_type": "code",
   "execution_count": 2,
   "metadata": {},
   "outputs": [],
   "source": [
    "import os"
   ]
  },
  {
   "cell_type": "code",
   "execution_count": 4,
   "metadata": {},
   "outputs": [],
   "source": [
    "if not os.path.exists(new_pre_process_dir):\n",
    "    os.mkdir(new_pre_process_dir)"
   ]
  },
  {
   "cell_type": "code",
   "execution_count": 2,
   "metadata": {},
   "outputs": [
    {
     "output_type": "error",
     "ename": "NameError",
     "evalue": "name 'new_pre_process_dir' is not defined",
     "traceback": [
      "\u001b[0;31m---------------------------------------------------------------------------\u001b[0m",
      "\u001b[0;31mNameError\u001b[0m                                 Traceback (most recent call last)",
      "\u001b[0;32m<ipython-input-2-3bfe46b2addc>\u001b[0m in \u001b[0;36m<module>\u001b[0;34m\u001b[0m\n\u001b[0;32m----> 1\u001b[0;31m \u001b[0mnew_file_dir\u001b[0m \u001b[0;34m=\u001b[0m \u001b[0mos\u001b[0m\u001b[0;34m.\u001b[0m\u001b[0mpath\u001b[0m\u001b[0;34m.\u001b[0m\u001b[0mjoin\u001b[0m\u001b[0;34m(\u001b[0m\u001b[0mnew_pre_process_dir\u001b[0m\u001b[0;34m,\u001b[0m \u001b[0;34m'Bladder_1.csv'\u001b[0m\u001b[0;34m)\u001b[0m\u001b[0;34m\u001b[0m\u001b[0;34m\u001b[0m\u001b[0m\n\u001b[0m",
      "\u001b[0;31mNameError\u001b[0m: name 'new_pre_process_dir' is not defined"
     ]
    }
   ],
   "source": [
    "new_file_dir = os.path.join(new_pre_process_dir, 'Bladder_1.csv')"
   ]
  },
  {
   "cell_type": "code",
   "execution_count": null,
   "metadata": {},
   "outputs": [],
   "source": [
    "new_file_dir"
   ]
  },
  {
   "cell_type": "code",
   "execution_count": null,
   "metadata": {},
   "outputs": [],
   "source": [
    "tmp_df.to_csv(new_file_dir)"
   ]
  },
  {
   "cell_type": "code",
   "execution_count": 5,
   "metadata": {},
   "outputs": [],
   "source": [
    "# preprocess the dataset to binary for sequence in gene\n",
    "for root, dirs, files in os.walk(\"/home/jay/Documents/projects/todo_files/ml_final_pro/datasets/processed_dge\", topdown=False):\n",
    "     for name in files:\n",
    "        file_dir = os.path.join(root, name)\n",
    "        tmp_df = pd.read_csv(file_dir)\n",
    "        tmp_df.iloc[:,1:-2] = tmp_df.iloc[:,1:-2].mask(tmp_df.iloc[:,1:-2] > 1, 1)\n",
    "        new_file_dir = os.path.join(new_pre_process_dir, name)\n",
    "        tmp_df.to_csv(new_file_dir)"
   ]
  },
  {
   "cell_type": "code",
   "execution_count": null,
   "metadata": {},
   "outputs": [],
   "source": [
    "tmp_df"
   ]
  },
  {
   "cell_type": "code",
   "execution_count": 2,
   "metadata": {},
   "outputs": [],
   "source": [
    "df1 = pd.DataFrame({'a': ['foo', 'bar'], 'b': [1, 2]})\n",
    "\n",
    "df2 = pd.DataFrame({'a': ['foo', 'baz'], 'c': [3, 4]})"
   ]
  },
  {
   "cell_type": "code",
   "execution_count": 7,
   "metadata": {},
   "outputs": [
    {
     "output_type": "execute_result",
     "data": {
      "text/plain": [
       "     a  b\n",
       "0  foo  1\n",
       "1  bar  2"
      ],
      "text/html": "<div>\n<style scoped>\n    .dataframe tbody tr th:only-of-type {\n        vertical-align: middle;\n    }\n\n    .dataframe tbody tr th {\n        vertical-align: top;\n    }\n\n    .dataframe thead th {\n        text-align: right;\n    }\n</style>\n<table border=\"1\" class=\"dataframe\">\n  <thead>\n    <tr style=\"text-align: right;\">\n      <th></th>\n      <th>a</th>\n      <th>b</th>\n    </tr>\n  </thead>\n  <tbody>\n    <tr>\n      <th>0</th>\n      <td>foo</td>\n      <td>1</td>\n    </tr>\n    <tr>\n      <th>1</th>\n      <td>bar</td>\n      <td>2</td>\n    </tr>\n  </tbody>\n</table>\n</div>"
     },
     "metadata": {},
     "execution_count": 7
    }
   ],
   "source": [
    "df1"
   ]
  },
  {
   "cell_type": "code",
   "execution_count": 8,
   "metadata": {},
   "outputs": [
    {
     "output_type": "execute_result",
     "data": {
      "text/plain": [
       "     a  c\n",
       "0  foo  3\n",
       "1  baz  4"
      ],
      "text/html": "<div>\n<style scoped>\n    .dataframe tbody tr th:only-of-type {\n        vertical-align: middle;\n    }\n\n    .dataframe tbody tr th {\n        vertical-align: top;\n    }\n\n    .dataframe thead th {\n        text-align: right;\n    }\n</style>\n<table border=\"1\" class=\"dataframe\">\n  <thead>\n    <tr style=\"text-align: right;\">\n      <th></th>\n      <th>a</th>\n      <th>c</th>\n    </tr>\n  </thead>\n  <tbody>\n    <tr>\n      <th>0</th>\n      <td>foo</td>\n      <td>3</td>\n    </tr>\n    <tr>\n      <th>1</th>\n      <td>baz</td>\n      <td>4</td>\n    </tr>\n  </tbody>\n</table>\n</div>"
     },
     "metadata": {},
     "execution_count": 8
    }
   ],
   "source": [
    "df2"
   ]
  },
  {
   "cell_type": "code",
   "execution_count": 5,
   "metadata": {},
   "outputs": [
    {
     "output_type": "execute_result",
     "data": {
      "text/plain": [
       "     a  b  c\n",
       "0  foo  1  3"
      ],
      "text/html": "<div>\n<style scoped>\n    .dataframe tbody tr th:only-of-type {\n        vertical-align: middle;\n    }\n\n    .dataframe tbody tr th {\n        vertical-align: top;\n    }\n\n    .dataframe thead th {\n        text-align: right;\n    }\n</style>\n<table border=\"1\" class=\"dataframe\">\n  <thead>\n    <tr style=\"text-align: right;\">\n      <th></th>\n      <th>a</th>\n      <th>b</th>\n      <th>c</th>\n    </tr>\n  </thead>\n  <tbody>\n    <tr>\n      <th>0</th>\n      <td>foo</td>\n      <td>1</td>\n      <td>3</td>\n    </tr>\n  </tbody>\n</table>\n</div>"
     },
     "metadata": {},
     "execution_count": 5
    }
   ],
   "source": [
    "df1.merge(df2, how='inner', on='a')"
   ]
  },
  {
   "cell_type": "code",
   "execution_count": 6,
   "metadata": {},
   "outputs": [
    {
     "output_type": "execute_result",
     "data": {
      "text/plain": [
       "     a  b    c\n",
       "0  foo  1  3.0\n",
       "1  bar  2  NaN"
      ],
      "text/html": "<div>\n<style scoped>\n    .dataframe tbody tr th:only-of-type {\n        vertical-align: middle;\n    }\n\n    .dataframe tbody tr th {\n        vertical-align: top;\n    }\n\n    .dataframe thead th {\n        text-align: right;\n    }\n</style>\n<table border=\"1\" class=\"dataframe\">\n  <thead>\n    <tr style=\"text-align: right;\">\n      <th></th>\n      <th>a</th>\n      <th>b</th>\n      <th>c</th>\n    </tr>\n  </thead>\n  <tbody>\n    <tr>\n      <th>0</th>\n      <td>foo</td>\n      <td>1</td>\n      <td>3.0</td>\n    </tr>\n    <tr>\n      <th>1</th>\n      <td>bar</td>\n      <td>2</td>\n      <td>NaN</td>\n    </tr>\n  </tbody>\n</table>\n</div>"
     },
     "metadata": {},
     "execution_count": 6
    }
   ],
   "source": [
    "df1.merge(df2, how='left', on='a')"
   ]
  },
  {
   "cell_type": "code",
   "execution_count": 9,
   "metadata": {},
   "outputs": [
    {
     "output_type": "execute_result",
     "data": {
      "text/plain": [
       "     a    b    c\n",
       "0  foo  1.0  3.0\n",
       "1  bar  2.0  NaN\n",
       "2  baz  NaN  4.0"
      ],
      "text/html": "<div>\n<style scoped>\n    .dataframe tbody tr th:only-of-type {\n        vertical-align: middle;\n    }\n\n    .dataframe tbody tr th {\n        vertical-align: top;\n    }\n\n    .dataframe thead th {\n        text-align: right;\n    }\n</style>\n<table border=\"1\" class=\"dataframe\">\n  <thead>\n    <tr style=\"text-align: right;\">\n      <th></th>\n      <th>a</th>\n      <th>b</th>\n      <th>c</th>\n    </tr>\n  </thead>\n  <tbody>\n    <tr>\n      <th>0</th>\n      <td>foo</td>\n      <td>1.0</td>\n      <td>3.0</td>\n    </tr>\n    <tr>\n      <th>1</th>\n      <td>bar</td>\n      <td>2.0</td>\n      <td>NaN</td>\n    </tr>\n    <tr>\n      <th>2</th>\n      <td>baz</td>\n      <td>NaN</td>\n      <td>4.0</td>\n    </tr>\n  </tbody>\n</table>\n</div>"
     },
     "metadata": {},
     "execution_count": 9
    }
   ],
   "source": [
    "df1.merge(df2, how='outer', on='a')"
   ]
  },
  {
   "cell_type": "code",
   "execution_count": 4,
   "metadata": {},
   "outputs": [
    {
     "output_type": "execute_result",
     "data": {
      "text/plain": [
       "(2746, 20673)"
      ]
     },
     "metadata": {},
     "execution_count": 4
    }
   ],
   "source": [
    "tmp_df.shape"
   ]
  },
  {
   "cell_type": "code",
   "execution_count": 7,
   "metadata": {},
   "outputs": [
    {
     "output_type": "execute_result",
     "data": {
      "text/plain": [
       "1"
      ]
     },
     "metadata": {},
     "execution_count": 7
    }
   ],
   "source": [
    "int(3/2)"
   ]
  },
  {
   "cell_type": "code",
   "execution_count": 5,
   "metadata": {},
   "outputs": [],
   "source": [
    "step = int(tmp_df.shape[0]/2)"
   ]
  },
  {
   "cell_type": "code",
   "execution_count": 6,
   "metadata": {},
   "outputs": [
    {
     "output_type": "execute_result",
     "data": {
      "text/plain": [
       "1373"
      ]
     },
     "metadata": {},
     "execution_count": 6
    }
   ],
   "source": [
    "step"
   ]
  },
  {
   "cell_type": "code",
   "execution_count": 8,
   "metadata": {},
   "outputs": [
    {
     "output_type": "stream",
     "name": "stdout",
     "text": [
      "0\n1\n"
     ]
    }
   ],
   "source": [
    "for i in range(2):\n",
    "    print(i)"
   ]
  },
  {
   "cell_type": "code",
   "execution_count": null,
   "metadata": {},
   "outputs": [],
   "source": []
  }
 ]
}