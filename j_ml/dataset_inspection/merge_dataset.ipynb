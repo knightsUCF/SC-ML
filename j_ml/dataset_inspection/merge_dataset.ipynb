{
 "metadata": {
  "language_info": {
   "codemirror_mode": {
    "name": "ipython",
    "version": 3
   },
   "file_extension": ".py",
   "mimetype": "text/x-python",
   "name": "python",
   "nbconvert_exporter": "python",
   "pygments_lexer": "ipython3",
   "version": "3.8.5"
  },
  "orig_nbformat": 2,
  "kernelspec": {
   "name": "python385jvsc74a57bd031f2aee4e71d21fbe5cf8b01ff0e069b9275f58929596ceb00d14d90e3e16cd6",
   "display_name": "Python 3.8.5 64-bit"
  },
  "metadata": {
   "interpreter": {
    "hash": "31f2aee4e71d21fbe5cf8b01ff0e069b9275f58929596ceb00d14d90e3e16cd6"
   }
  }
 },
 "nbformat": 4,
 "nbformat_minor": 2,
 "cells": [
  {
   "cell_type": "code",
   "execution_count": 3,
   "metadata": {},
   "outputs": [],
   "source": [
    "import pandas as pd\n",
    "import os"
   ]
  },
  {
   "cell_type": "code",
   "execution_count": 4,
   "metadata": {},
   "outputs": [],
   "source": [
    "output_dir = '../../datasets/pre_mer_datasets'"
   ]
  },
  {
   "cell_type": "code",
   "execution_count": 5,
   "metadata": {},
   "outputs": [],
   "source": [
    "if not os.path.exists(output_dir):\n",
    "    os.mkdir(output_dir)"
   ]
  },
  {
   "cell_type": "code",
   "execution_count": 6,
   "metadata": {},
   "outputs": [],
   "source": [
    "df_1 = pd.DataFrame()\n",
    "df_2 = pd.DataFrame({'a': ['foo', 'baz'], 'c': [3, 4]})"
   ]
  },
  {
   "cell_type": "code",
   "execution_count": 7,
   "metadata": {},
   "outputs": [],
   "source": [
    "df_1 = df_2"
   ]
  },
  {
   "cell_type": "code",
   "execution_count": 8,
   "metadata": {},
   "outputs": [
    {
     "output_type": "execute_result",
     "data": {
      "text/plain": [
       "     a  c\n",
       "0  foo  3\n",
       "1  baz  4"
      ],
      "text/html": "<div>\n<style scoped>\n    .dataframe tbody tr th:only-of-type {\n        vertical-align: middle;\n    }\n\n    .dataframe tbody tr th {\n        vertical-align: top;\n    }\n\n    .dataframe thead th {\n        text-align: right;\n    }\n</style>\n<table border=\"1\" class=\"dataframe\">\n  <thead>\n    <tr style=\"text-align: right;\">\n      <th></th>\n      <th>a</th>\n      <th>c</th>\n    </tr>\n  </thead>\n  <tbody>\n    <tr>\n      <th>0</th>\n      <td>foo</td>\n      <td>3</td>\n    </tr>\n    <tr>\n      <th>1</th>\n      <td>baz</td>\n      <td>4</td>\n    </tr>\n  </tbody>\n</table>\n</div>"
     },
     "metadata": {},
     "execution_count": 8
    }
   ],
   "source": [
    "df_1"
   ]
  },
  {
   "cell_type": "code",
   "execution_count": 18,
   "metadata": {},
   "outputs": [],
   "source": [
    "tmp_df = pd.read_csv('/home/jay/Documents/projects/todo_files/ml_final_pro/datasets/pre_processed_datasets/Bladder_1.csv')"
   ]
  },
  {
   "cell_type": "code",
   "execution_count": 19,
   "metadata": {},
   "outputs": [
    {
     "output_type": "execute_result",
     "data": {
      "text/plain": [
       "0       Bladder_1.CCATCTAGCGAGTTTAGG\n",
       "1       Bladder_1.GAGGAGCGCTTGATACAG\n",
       "2       Bladder_1.CCAGACACAATAGAATTA\n",
       "3       Bladder_1.CCGACGGGACATATGGCG\n",
       "4       Bladder_1.TAGCATTCAAAGATTCCA\n",
       "                    ...             \n",
       "2741    Bladder_1.AAAACGCAACAAGGGCGA\n",
       "2742    Bladder_1.TTAACTGAGGAGGGGCGA\n",
       "2743    Bladder_1.GAGTCGGTCGGTATCAAC\n",
       "2744    Bladder_1.CCAGACCATGATAAGTAC\n",
       "2745    Bladder_1.CAACAAAGATGGTTTAGG\n",
       "Name: Unnamed: 0, Length: 2746, dtype: object"
      ]
     },
     "metadata": {},
     "execution_count": 19
    }
   ],
   "source": [
    "tmp_df['Unnamed: 0']"
   ]
  },
  {
   "cell_type": "code",
   "execution_count": 32,
   "metadata": {},
   "outputs": [],
   "source": [
    "def merge_datasets(input_file_1, input_file_2):\n",
    "    df_1 = pd.read_csv(input_file_1)\n",
    "    print('{} shape: {}',(input_file_1,df_1.shape))\n",
    "    df_2 = pd.read_csv(input_file_2)\n",
    "    print('{} shape: {}',(input_file_2,df_2.shape))\n",
    "    return_df = df_1.merge(df_2, how='outer', on='Unnamed: 0')\n",
    "    return return_df"
   ]
  },
  {
   "cell_type": "code",
   "execution_count": 23,
   "metadata": {},
   "outputs": [],
   "source": [
    "output_dir = '../../datasets/pre_mer_datasets'"
   ]
  },
  {
   "cell_type": "code",
   "execution_count": 24,
   "metadata": {},
   "outputs": [],
   "source": [
    "tem_dir = os.path.join(output_dir, 'brain.csv')"
   ]
  },
  {
   "cell_type": "code",
   "execution_count": 33,
   "metadata": {},
   "outputs": [
    {
     "output_type": "stream",
     "name": "stdout",
     "text": [
      "{} shape: {} ('/home/jay/Documents/projects/todo_files/ml_final_pro/datasets/pre_processed_datasets/Brain_1.csv', (3285, 20168))\n",
      "{} shape: {} ('/home/jay/Documents/projects/todo_files/ml_final_pro/datasets/pre_processed_datasets/Brain_2.csv', (753, 18723))\n"
     ]
    }
   ],
   "source": [
    "output_df = merge_datasets('/home/jay/Documents/projects/todo_files/ml_final_pro/datasets/pre_processed_datasets/Brain_1.csv',\n",
    "'/home/jay/Documents/projects/todo_files/ml_final_pro/datasets/pre_processed_datasets/Brain_2.csv')"
   ]
  },
  {
   "cell_type": "code",
   "execution_count": 30,
   "metadata": {},
   "outputs": [
    {
     "output_type": "execute_result",
     "data": {
      "text/plain": [
       "(4038, 38890)"
      ]
     },
     "metadata": {},
     "execution_count": 30
    }
   ],
   "source": [
    "output_df.shape"
   ]
  },
  {
   "cell_type": "code",
   "execution_count": null,
   "metadata": {},
   "outputs": [],
   "source": []
  }
 ]
}