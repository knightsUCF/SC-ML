{
 "metadata": {
  "language_info": {
   "codemirror_mode": {
    "name": "ipython",
    "version": 3
   },
   "file_extension": ".py",
   "mimetype": "text/x-python",
   "name": "python",
   "nbconvert_exporter": "python",
   "pygments_lexer": "ipython3",
   "version": "3.8.5"
  },
  "orig_nbformat": 2,
  "kernelspec": {
   "name": "python385jvsc74a57bd031f2aee4e71d21fbe5cf8b01ff0e069b9275f58929596ceb00d14d90e3e16cd6",
   "display_name": "Python 3.8.5 64-bit"
  },
  "metadata": {
   "interpreter": {
    "hash": "31f2aee4e71d21fbe5cf8b01ff0e069b9275f58929596ceb00d14d90e3e16cd6"
   }
  }
 },
 "nbformat": 4,
 "nbformat_minor": 2,
 "cells": [
  {
   "cell_type": "code",
   "execution_count": 1,
   "metadata": {},
   "outputs": [],
   "source": [
    "import numpy as np\n",
    "import pandas as pd\n",
    "import h5py\n",
    "from sklearn.model_selection import train_test_split"
   ]
  },
  {
   "cell_type": "code",
   "execution_count": 2,
   "metadata": {},
   "outputs": [],
   "source": [
    "data_f = h5py.File('../../datasets/process_dataset.h5ad', 'r')"
   ]
  },
  {
   "cell_type": "code",
   "execution_count": 11,
   "metadata": {},
   "outputs": [
    {
     "output_type": "stream",
     "name": "stdout",
     "text": [
      "5.9%\n",
      "11.8%\n",
      "17.6%\n",
      "23.5%\n",
      "29.4%\n",
      "35.3%\n",
      "41.2%\n",
      "47.1%\n",
      "52.9%\n",
      "58.8%\n",
      "64.7%\n",
      "70.6%\n",
      "76.5%\n",
      "82.4%\n",
      "88.2%\n",
      "94.1%\n",
      "100.0%\n"
     ]
    }
   ],
   "source": [
    "i=0\n",
    "while i < data_f['X'].shape[0]:\n",
    "    tmp_X = data_f['X'][i:i+19634]\n",
    "    tmp_y = data_f['labels'][i:i+19634]\n",
    "    train_X, test_X, train_y, test_y = train_test_split(tmp_X, tmp_y, test_size=0.2, random_state=42)\n",
    "    \n",
    "    if i==0:\n",
    "        with h5py.File('../../datasets/train_test_dataset.h5ad', 'w') as hf:\n",
    "            hf.create_dataset(name='train_X', data=train_X, dtype=np.float, chunks=(1024, train_X.shape[1]), maxshape=(None, None))\n",
    "            hf.create_dataset(name='train_y', data=train_y, dtype=np.int, chunks=(1024,), maxshape=(None, ))\n",
    "            hf.create_dataset(name='test_X', data=test_X, dtype=np.float, chunks=(1024, test_X.shape[1]), maxshape=(None, None))\n",
    "            hf.create_dataset(name='test_y', data=test_y, dtype=np.int, chunks=(1024,), maxshape=(None, ))\n",
    "    else:\n",
    "        with h5py.File('../../datasets/train_test_dataset.h5ad', 'a') as hf:\n",
    "            hf[\"train_X\"].resize((hf[\"train_X\"].shape[0] + train_X.shape[0]), axis = 0)\n",
    "            hf[\"train_X\"][-train_X.shape[0]:] = train_X\n",
    "\n",
    "            hf[\"test_X\"].resize((hf[\"test_X\"].shape[0] + test_X.shape[0]), axis = 0)\n",
    "            hf[\"test_X\"][-test_X.shape[0]:] = test_X\n",
    "\n",
    "            hf[\"train_y\"].resize((hf[\"train_y\"].shape[0] + train_y.shape[0]), axis = 0)\n",
    "            hf[\"train_y\"][-train_y.shape[0]:] = train_y\n",
    "\n",
    "            hf[\"test_y\"].resize((hf[\"test_y\"].shape[0] + test_y.shape[0]), axis = 0)\n",
    "            hf[\"test_y\"][-test_y.shape[0]:] = test_y\n",
    "\n",
    "    i+=19634\n",
    "    process_percent = (i+1)/data_f['X'].shape[0]\n",
    "    percentage = \"{:.1%}\".format(process_percent)\n",
    "    print(percentage)"
   ]
  },
  {
   "cell_type": "code",
   "execution_count": 15,
   "metadata": {},
   "outputs": [
    {
     "output_type": "execute_result",
     "data": {
      "text/plain": [
       "(333778, 34947)"
      ]
     },
     "metadata": {},
     "execution_count": 15
    }
   ],
   "source": [
    "data_f['X'].shape"
   ]
  },
  {
   "cell_type": "code",
   "execution_count": 18,
   "metadata": {},
   "outputs": [
    {
     "output_type": "stream",
     "name": "stdout",
     "text": [
      "<KeysViewHDF5 ['test_X', 'test_y', 'train_X', 'train_y']>\nfloat64\nint64\n<HDF5 dataset \"train_X\": shape (267019, 34947), type \"<f8\">\n<HDF5 dataset \"train_y\": shape (267019,), type \"<i8\">\n"
     ]
    }
   ],
   "source": [
    "with h5py.File('../../datasets/train_test_dataset.h5ad', 'r') as hf:\n",
    "    print(hf.keys())\n",
    "    print(hf['test_X'][:5].dtype)\n",
    "    print(hf['test_y'][:5].dtype)\n",
    "    print(hf['train_X'])\n",
    "    print(hf['train_y'])"
   ]
  },
  {
   "cell_type": "code",
   "execution_count": null,
   "metadata": {},
   "outputs": [],
   "source": []
  }
 ]
}