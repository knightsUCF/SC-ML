{
 "metadata": {
  "language_info": {
   "codemirror_mode": {
    "name": "ipython",
    "version": 3
   },
   "file_extension": ".py",
   "mimetype": "text/x-python",
   "name": "python",
   "nbconvert_exporter": "python",
   "pygments_lexer": "ipython3",
   "version": "3.8.5-final"
  },
  "orig_nbformat": 2,
  "kernelspec": {
   "name": "python385jvsc74a57bd031f2aee4e71d21fbe5cf8b01ff0e069b9275f58929596ceb00d14d90e3e16cd6",
   "display_name": "Python 3.8.5 64-bit"
  },
  "metadata": {
   "interpreter": {
    "hash": "31f2aee4e71d21fbe5cf8b01ff0e069b9275f58929596ceb00d14d90e3e16cd6"
   }
  }
 },
 "nbformat": 4,
 "nbformat_minor": 2,
 "cells": [
  {
   "cell_type": "code",
   "execution_count": 8,
   "metadata": {},
   "outputs": [],
   "source": [
    "import h5py\n",
    "import numpy as np\n",
    "import pandas as pd\n",
    "import tensorflow as tf\n",
    "from sklearn.model_selection import train_test_split\n",
    "from sklearn.preprocessing import LabelEncoder\n",
    "from sklearn.model_selection import cross_val_score\n",
    "from sklearn.model_selection import KFold\n",
    "from tensorflow.keras.models import Sequential\n",
    "from tensorflow.keras.layers import Dense\n",
    "from tensorflow.keras.layers import Dropout\n",
    "from tensorflow.keras.utils import HDF5Matrix\n",
    "import math\n",
    "from sklearn.preprocessing import LabelEncoder\n",
    "from tensorflow.keras.wrappers.scikit_learn import KerasClassifier\n",
    "from tensorflow.keras import utils"
   ]
  },
  {
   "cell_type": "code",
   "execution_count": 10,
   "metadata": {},
   "outputs": [],
   "source": [
    "def create_superct_model(n_features, n_targets):\n",
    "    model = Sequential()\n",
    "    model.add(Dense(200, input_dim = n_features, activation = 'relu'))\n",
    "    model.add(Dropout(0.4))\n",
    "    model.add(Dropout(0.4))\n",
    "    model.add(Dense(100, activation = 'relu'))\n",
    "    model.add(Dropout(0.4))\n",
    "    model.add(Dropout(0.4))\n",
    "    model.add(Dense(n_targets, activation = 'relu'))\n",
    "    model.compile(optimizer='SGD', loss='categorical_crossentropy', metrics=['accuracy'])\n",
    "    return model"
   ]
  },
  {
   "cell_type": "code",
   "execution_count": 29,
   "metadata": {},
   "outputs": [],
   "source": [
    "def train_and_save(file_dir, output_dir):\n",
    "    if not os.path.exists(output_dir):\n",
    "        os.mkdir(output_dir)\n",
    "\n",
    "    print('start to process %s'%file_dir)\n",
    "\n",
    "    d_df = pd.read_csv(file_dir)\n",
    "    X = d_df.iloc[:,1:-2]\n",
    "    y = d_df['target_id']\n",
    "    enc = LabelEncoder()\n",
    "    enc.fit(y)\n",
    "    encoded_Y = enc.transform(y)\n",
    "    dummy_y = utils.to_categorical(encoded_Y)\n",
    "\n",
    "    batch_size = 128\n",
    "    # round up the epches\n",
    "    num_epoches = math.ceil(X.shape[0]/batch_size)\n",
    "\n",
    "    # training the model\n",
    "    print('start training')\n",
    "    estimator = KerasClassifier(build_fn=create_superct_model,n_features=X.shape[1], n_targets=dummy_y.shape[1], epochs=num_epoches, batch_size=batch_size, verbose=0)\n",
    "    kfold = KFold(n_splits=10, shuffle=True)\n",
    "    results = cross_val_score(estimator, X, dummy_y, cv=kfold)\n",
    "\n",
    "    # save files\n",
    "    file_name = os.path.basename(file_dir)\n",
    "    history_name = file_name.replace('.csv', '.txt')\n",
    "    history_name = os.path.join(output_dir, history_name)\n",
    "\n",
    "    # content to be saved\n",
    "    results_mean = str(results.mean()*100)+'%'\n",
    "    results_std = str(results.std()*100)+'%'\n",
    "    results_str = results_mean+'\\t'+results_std\n",
    "    print('start writing files')\n",
    "    with open(history_name, 'w') as f:\n",
    "        f.write(file_name)\n",
    "        f.write('\\n')\n",
    "        f.write('the number of observations: %d'%X.shape[0])\n",
    "        f.write('\\n')\n",
    "        f.write('the number of features: %d'%X.shape[1])\n",
    "        f.write('\\n')\n",
    "        f.write('the number of targets: %d'%dummy_y.shape[1])\n",
    "        f.write('\\n')\n",
    "        f.write(results_str)\n",
    "    model.save(output_model_name)\n",
    "    print('finished processing %s'%file_name)"
   ]
  },
  {
   "cell_type": "code",
   "execution_count": 28,
   "metadata": {},
   "outputs": [
    {
     "output_type": "stream",
     "name": "stdout",
     "text": [
      "start to process /home/jay/Documents/projects/todo_files/ml_final_pro/datasets/pre_processed_datasets/BoneMarrowcKit_1.csv\n",
      "start training\n",
      "start writing files\n"
     ]
    },
    {
     "output_type": "error",
     "ename": "NameError",
     "evalue": "name 'X_train' is not defined",
     "traceback": [
      "\u001b[0;31m---------------------------------------------------------------------------\u001b[0m",
      "\u001b[0;31mNameError\u001b[0m                                 Traceback (most recent call last)",
      "\u001b[0;32m<ipython-input-28-019f7dfe2b23>\u001b[0m in \u001b[0;36m<module>\u001b[0;34m\u001b[0m\n\u001b[1;32m      4\u001b[0m     \u001b[0;32mfor\u001b[0m \u001b[0mname\u001b[0m \u001b[0;32min\u001b[0m \u001b[0mfiles\u001b[0m\u001b[0;34m:\u001b[0m\u001b[0;34m\u001b[0m\u001b[0;34m\u001b[0m\u001b[0m\n\u001b[1;32m      5\u001b[0m        \u001b[0mfile_dir\u001b[0m \u001b[0;34m=\u001b[0m \u001b[0mos\u001b[0m\u001b[0;34m.\u001b[0m\u001b[0mpath\u001b[0m\u001b[0;34m.\u001b[0m\u001b[0mjoin\u001b[0m\u001b[0;34m(\u001b[0m\u001b[0mroot\u001b[0m\u001b[0;34m,\u001b[0m \u001b[0mname\u001b[0m\u001b[0;34m)\u001b[0m\u001b[0;34m\u001b[0m\u001b[0;34m\u001b[0m\u001b[0m\n\u001b[0;32m----> 6\u001b[0;31m        \u001b[0mtrain_and_save\u001b[0m\u001b[0;34m(\u001b[0m\u001b[0mfile_dir\u001b[0m\u001b[0;34m,\u001b[0m \u001b[0;34m'./superct_v0'\u001b[0m\u001b[0;34m)\u001b[0m\u001b[0;34m\u001b[0m\u001b[0;34m\u001b[0m\u001b[0m\n\u001b[0m",
      "\u001b[0;32m<ipython-input-27-433cd16323d9>\u001b[0m in \u001b[0;36mtrain_and_save\u001b[0;34m(file_dir, output_dir)\u001b[0m\n\u001b[1;32m     36\u001b[0m         \u001b[0mf\u001b[0m\u001b[0;34m.\u001b[0m\u001b[0mwrite\u001b[0m\u001b[0;34m(\u001b[0m\u001b[0mfile_name\u001b[0m\u001b[0;34m)\u001b[0m\u001b[0;34m\u001b[0m\u001b[0;34m\u001b[0m\u001b[0m\n\u001b[1;32m     37\u001b[0m         \u001b[0mf\u001b[0m\u001b[0;34m.\u001b[0m\u001b[0mwrite\u001b[0m\u001b[0;34m(\u001b[0m\u001b[0;34m'\\n'\u001b[0m\u001b[0;34m)\u001b[0m\u001b[0;34m\u001b[0m\u001b[0;34m\u001b[0m\u001b[0m\n\u001b[0;32m---> 38\u001b[0;31m         \u001b[0mf\u001b[0m\u001b[0;34m.\u001b[0m\u001b[0mwrite\u001b[0m\u001b[0;34m(\u001b[0m\u001b[0;34m'the number of observations: %d'\u001b[0m\u001b[0;34m%\u001b[0m\u001b[0mX_train\u001b[0m\u001b[0;34m.\u001b[0m\u001b[0mshape\u001b[0m\u001b[0;34m[\u001b[0m\u001b[0;36m0\u001b[0m\u001b[0;34m]\u001b[0m\u001b[0;34m)\u001b[0m\u001b[0;34m\u001b[0m\u001b[0;34m\u001b[0m\u001b[0m\n\u001b[0m\u001b[1;32m     39\u001b[0m         \u001b[0mf\u001b[0m\u001b[0;34m.\u001b[0m\u001b[0mwrite\u001b[0m\u001b[0;34m(\u001b[0m\u001b[0;34m'\\n'\u001b[0m\u001b[0;34m)\u001b[0m\u001b[0;34m\u001b[0m\u001b[0;34m\u001b[0m\u001b[0m\n\u001b[1;32m     40\u001b[0m         \u001b[0mf\u001b[0m\u001b[0;34m.\u001b[0m\u001b[0mwrite\u001b[0m\u001b[0;34m(\u001b[0m\u001b[0;34m'the number of features: %d'\u001b[0m\u001b[0;34m%\u001b[0m\u001b[0mX_train\u001b[0m\u001b[0;34m.\u001b[0m\u001b[0mshape\u001b[0m\u001b[0;34m[\u001b[0m\u001b[0;36m1\u001b[0m\u001b[0;34m]\u001b[0m\u001b[0;34m)\u001b[0m\u001b[0;34m\u001b[0m\u001b[0;34m\u001b[0m\u001b[0m\n",
      "\u001b[0;31mNameError\u001b[0m: name 'X_train' is not defined"
     ]
    }
   ],
   "source": [
    " # processed_dge folder contains all new defined datasets\n",
    " # get all shapes from processed_dge files\n",
    " for root, dirs, files in os.walk(\"/home/jay/Documents/projects/todo_files/ml_final_pro/datasets/pre_processed_datasets\", topdown=False):\n",
    "     for name in files:\n",
    "        file_dir = os.path.join(root, name)\n",
    "        train_and_save(file_dir, './superct_v0')"
   ]
  },
  {
   "cell_type": "code",
   "execution_count": null,
   "metadata": {},
   "outputs": [],
   "source": []
  },
  {
   "cell_type": "code",
   "execution_count": 4,
   "metadata": {},
   "outputs": [],
   "source": [
    "def dictionary_list (input_dic):\n",
    "    return_str = ''\n",
    "    for k, v in input_dic.items():\n",
    "        return_str+=str(k)\n",
    "        return_str+='\\n\\t'\n",
    "        float_list = map(str, v) \n",
    "        return_str+='\\n\\t'.join(float_list)\n",
    "        return_str+='\\n'\n",
    "        return_str+='\\n'\n",
    "    return return_str"
   ]
  },
  {
   "cell_type": "code",
   "execution_count": 17,
   "metadata": {},
   "outputs": [],
   "source": [
    "def train_and_save(file_dir):\n",
    "    print('start to process %s'%file_dir)\n",
    "    X_train, X_test, y_train, y_test = load_dataset_from_dir(file_dir)\n",
    "    batch_size = 128\n",
    "    # round up the epches\n",
    "    num_epoches = math.ceil(X_train.shape[0]/batch_size)\n",
    "    model = create_superct_model(X_train.shape[1])\n",
    "    history = model.fit(X_train, y_train, epochs=num_epoches, validation_data=(X_test, y_test))\n",
    "    file_name = os.path.basename(file_dir)\n",
    "    file_name = 'superct_v0_'+file_name\n",
    "    history_name = file_name.replace('.csv', '.txt')\n",
    "    output_model_name = file_name.replace('.csv', '.hdf5')\n",
    "    with open(history_name, 'w') as f:\n",
    "        f.write(file_name)\n",
    "        f.write('\\n')\n",
    "        f.write('the number of observations: %d'%X_train.shape[0])\n",
    "        f.write('\\n')\n",
    "        f.write('the number of features: %d'%X_train.shape[1])\n",
    "        f.write('\\n')\n",
    "        f.write(dictionary_list(history.history))\n",
    "    model.save(output_model_name)\n",
    "    print('finished processing %s'%file_name)"
   ]
  },
  {
   "cell_type": "code",
   "execution_count": 18,
   "metadata": {
    "tags": [
     "outputPrepend"
    ]
   },
   "outputs": [
    {
     "output_type": "stream",
     "name": "stdout",
     "text": [
      "===============] - 1s 6ms/step - loss: 5.3507e-07 - accuracy: 0.0041 - val_loss: 5.1667e-07 - val_accuracy: 0.0000e+00\n",
      "Epoch 34/52\n",
      "205/205 [==============================] - 1s 6ms/step - loss: 5.3507e-07 - accuracy: 0.0029 - val_loss: 5.1667e-07 - val_accuracy: 0.0000e+00\n",
      "Epoch 35/52\n",
      "205/205 [==============================] - 1s 5ms/step - loss: 5.3507e-07 - accuracy: 0.0031 - val_loss: 5.1667e-07 - val_accuracy: 0.0000e+00\n",
      "Epoch 36/52\n",
      "205/205 [==============================] - 1s 5ms/step - loss: 5.3507e-07 - accuracy: 0.0037 - val_loss: 5.1667e-07 - val_accuracy: 0.0000e+00\n",
      "Epoch 37/52\n",
      "205/205 [==============================] - 1s 6ms/step - loss: 5.3507e-07 - accuracy: 0.0035 - val_loss: 5.1667e-07 - val_accuracy: 0.0000e+00\n",
      "Epoch 38/52\n",
      "205/205 [==============================] - 1s 5ms/step - loss: 5.3507e-07 - accuracy: 0.0034 - val_loss: 5.1667e-07 - val_accuracy: 0.0000e+00\n",
      "Epoch 39/52\n",
      "205/205 [==============================] - 1s 5ms/step - loss: 5.3507e-07 - accuracy: 0.0018 - val_loss: 5.1667e-07 - val_accuracy: 0.0000e+00\n",
      "Epoch 40/52\n",
      "205/205 [==============================] - 1s 5ms/step - loss: 5.3507e-07 - accuracy: 0.0034 - val_loss: 5.1667e-07 - val_accuracy: 0.0000e+00\n",
      "Epoch 41/52\n",
      "205/205 [==============================] - 1s 5ms/step - loss: 5.3507e-07 - accuracy: 0.0023 - val_loss: 5.1667e-07 - val_accuracy: 0.0000e+00\n",
      "Epoch 42/52\n",
      "205/205 [==============================] - 1s 5ms/step - loss: 5.3507e-07 - accuracy: 0.0029 - val_loss: 5.1667e-07 - val_accuracy: 0.0000e+00\n",
      "Epoch 43/52\n",
      "205/205 [==============================] - 1s 6ms/step - loss: 5.3507e-07 - accuracy: 0.0031 - val_loss: 5.1667e-07 - val_accuracy: 0.0000e+00\n",
      "Epoch 44/52\n",
      "205/205 [==============================] - 1s 5ms/step - loss: 5.3507e-07 - accuracy: 0.0017 - val_loss: 5.1667e-07 - val_accuracy: 0.0000e+00\n",
      "Epoch 45/52\n",
      "205/205 [==============================] - 1s 5ms/step - loss: 5.3507e-07 - accuracy: 0.0029 - val_loss: 5.1667e-07 - val_accuracy: 0.0000e+00\n",
      "Epoch 46/52\n",
      "205/205 [==============================] - 1s 5ms/step - loss: 5.3507e-07 - accuracy: 0.0035 - val_loss: 5.1667e-07 - val_accuracy: 0.0000e+00\n",
      "Epoch 47/52\n",
      "205/205 [==============================] - 1s 5ms/step - loss: 5.3507e-07 - accuracy: 0.0032 - val_loss: 5.1667e-07 - val_accuracy: 0.0000e+00\n",
      "Epoch 48/52\n",
      "205/205 [==============================] - 1s 5ms/step - loss: 5.3507e-07 - accuracy: 0.0038 - val_loss: 5.1667e-07 - val_accuracy: 0.0000e+00\n",
      "Epoch 49/52\n",
      "205/205 [==============================] - 1s 5ms/step - loss: 5.3507e-07 - accuracy: 0.0020 - val_loss: 5.1667e-07 - val_accuracy: 0.0000e+00\n",
      "Epoch 50/52\n",
      "205/205 [==============================] - 1s 5ms/step - loss: 5.3507e-07 - accuracy: 0.0028 - val_loss: 5.1667e-07 - val_accuracy: 0.0000e+00\n",
      "Epoch 51/52\n",
      "205/205 [==============================] - 1s 5ms/step - loss: 5.3507e-07 - accuracy: 0.0028 - val_loss: 5.1667e-07 - val_accuracy: 0.0000e+00\n",
      "Epoch 52/52\n",
      "205/205 [==============================] - 1s 5ms/step - loss: 5.3507e-07 - accuracy: 0.0037 - val_loss: 5.1667e-07 - val_accuracy: 0.0000e+00\n",
      "finished processing superct_v0_BoneMarrowcKit_3.csv\n",
      "start to process /home/jay/Documents/projects/todo_files/ml_final_pro/datasets/pre_processed_datasets/Uterus_2.csv\n",
      "Epoch 1/11\n",
      "43/43 [==============================] - 0s 8ms/step - loss: 6.9733e-07 - accuracy: 0.0000e+00 - val_loss: 6.5653e-07 - val_accuracy: 0.0000e+00\n",
      "Epoch 2/11\n",
      "43/43 [==============================] - 0s 7ms/step - loss: 6.9733e-07 - accuracy: 0.0000e+00 - val_loss: 6.5653e-07 - val_accuracy: 0.0000e+00\n",
      "Epoch 3/11\n",
      "43/43 [==============================] - 0s 6ms/step - loss: 6.9733e-07 - accuracy: 0.0000e+00 - val_loss: 6.5653e-07 - val_accuracy: 0.0000e+00\n",
      "Epoch 4/11\n",
      "43/43 [==============================] - 0s 6ms/step - loss: 6.9733e-07 - accuracy: 0.0000e+00 - val_loss: 6.5653e-07 - val_accuracy: 0.0000e+00\n",
      "Epoch 5/11\n",
      "43/43 [==============================] - 0s 6ms/step - loss: 6.9733e-07 - accuracy: 0.0000e+00 - val_loss: 6.5653e-07 - val_accuracy: 0.0000e+00\n",
      "Epoch 6/11\n",
      "43/43 [==============================] - 0s 6ms/step - loss: 6.9733e-07 - accuracy: 0.0000e+00 - val_loss: 6.5653e-07 - val_accuracy: 0.0000e+00\n",
      "Epoch 7/11\n",
      "43/43 [==============================] - 0s 6ms/step - loss: 6.9733e-07 - accuracy: 0.0000e+00 - val_loss: 6.5653e-07 - val_accuracy: 0.0000e+00\n",
      "Epoch 8/11\n",
      "43/43 [==============================] - 0s 6ms/step - loss: 6.9733e-07 - accuracy: 0.0000e+00 - val_loss: 6.5653e-07 - val_accuracy: 0.0000e+00\n",
      "Epoch 9/11\n",
      "43/43 [==============================] - 0s 6ms/step - loss: 6.9733e-07 - accuracy: 0.0000e+00 - val_loss: 6.5653e-07 - val_accuracy: 0.0000e+00\n",
      "Epoch 10/11\n",
      "43/43 [==============================] - 0s 6ms/step - loss: 6.9733e-07 - accuracy: 0.0000e+00 - val_loss: 6.5653e-07 - val_accuracy: 0.0000e+00\n",
      "Epoch 11/11\n",
      "43/43 [==============================] - 0s 7ms/step - loss: 6.9733e-07 - accuracy: 0.0000e+00 - val_loss: 6.5653e-07 - val_accuracy: 0.0000e+00\n",
      "finished processing superct_v0_Uterus_2.csv\n",
      "start to process /home/jay/Documents/projects/todo_files/ml_final_pro/datasets/pre_processed_datasets/Brain_1.csv\n",
      "Epoch 1/21\n",
      "83/83 [==============================] - 1s 7ms/step - loss: 1.8008e-07 - accuracy: 0.0997 - val_loss: 1.9469e-07 - val_accuracy: 0.0000e+00\n",
      "Epoch 2/21\n",
      "83/83 [==============================] - 1s 6ms/step - loss: 1.8008e-07 - accuracy: 0.1062 - val_loss: 1.9469e-07 - val_accuracy: 0.0000e+00\n",
      "Epoch 3/21\n",
      "83/83 [==============================] - 0s 6ms/step - loss: 1.8008e-07 - accuracy: 0.1073 - val_loss: 1.9469e-07 - val_accuracy: 0.0000e+00\n",
      "Epoch 4/21\n",
      "83/83 [==============================] - 0s 6ms/step - loss: 1.8008e-07 - accuracy: 0.0997 - val_loss: 1.9469e-07 - val_accuracy: 0.0000e+00\n",
      "Epoch 5/21\n",
      "83/83 [==============================] - 0s 6ms/step - loss: 1.8008e-07 - accuracy: 0.1263 - val_loss: 1.9469e-07 - val_accuracy: 0.0000e+00\n",
      "Epoch 6/21\n",
      "83/83 [==============================] - 0s 6ms/step - loss: 1.8008e-07 - accuracy: 0.1043 - val_loss: 1.9469e-07 - val_accuracy: 0.0000e+00\n",
      "Epoch 7/21\n",
      "83/83 [==============================] - 1s 6ms/step - loss: 1.8008e-07 - accuracy: 0.1126 - val_loss: 1.9469e-07 - val_accuracy: 0.0000e+00\n",
      "Epoch 8/21\n",
      "83/83 [==============================] - 1s 6ms/step - loss: 1.8008e-07 - accuracy: 0.1035 - val_loss: 1.9469e-07 - val_accuracy: 0.0000e+00\n",
      "Epoch 9/21\n",
      "83/83 [==============================] - 0s 6ms/step - loss: 1.8008e-07 - accuracy: 0.1130 - val_loss: 1.9469e-07 - val_accuracy: 0.0000e+00\n",
      "Epoch 10/21\n",
      "83/83 [==============================] - 0s 6ms/step - loss: 1.8008e-07 - accuracy: 0.1187 - val_loss: 1.9469e-07 - val_accuracy: 0.0000e+00\n",
      "Epoch 11/21\n",
      "83/83 [==============================] - 1s 6ms/step - loss: 1.8008e-07 - accuracy: 0.1172 - val_loss: 1.9469e-07 - val_accuracy: 0.0000e+00\n",
      "Epoch 12/21\n",
      "83/83 [==============================] - 0s 6ms/step - loss: 1.8008e-07 - accuracy: 0.1164 - val_loss: 1.9469e-07 - val_accuracy: 0.0000e+00\n",
      "Epoch 13/21\n",
      "83/83 [==============================] - 0s 6ms/step - loss: 1.8008e-07 - accuracy: 0.1100 - val_loss: 1.9469e-07 - val_accuracy: 0.0000e+00\n",
      "Epoch 14/21\n",
      "83/83 [==============================] - 0s 6ms/step - loss: 1.8008e-07 - accuracy: 0.1050 - val_loss: 1.9469e-07 - val_accuracy: 0.0000e+00\n",
      "Epoch 15/21\n",
      "83/83 [==============================] - 1s 6ms/step - loss: 1.8008e-07 - accuracy: 0.1115 - val_loss: 1.9469e-07 - val_accuracy: 0.0000e+00\n",
      "Epoch 16/21\n",
      "83/83 [==============================] - 0s 6ms/step - loss: 1.8008e-07 - accuracy: 0.1172 - val_loss: 1.9469e-07 - val_accuracy: 0.0000e+00\n",
      "Epoch 17/21\n",
      "83/83 [==============================] - 0s 6ms/step - loss: 1.8008e-07 - accuracy: 0.1069 - val_loss: 1.9469e-07 - val_accuracy: 0.0000e+00\n",
      "Epoch 18/21\n",
      "83/83 [==============================] - 0s 6ms/step - loss: 1.8008e-07 - accuracy: 0.1180 - val_loss: 1.9469e-07 - val_accuracy: 0.0000e+00\n",
      "Epoch 19/21\n",
      "83/83 [==============================] - 1s 6ms/step - loss: 1.8008e-07 - accuracy: 0.1115 - val_loss: 1.9469e-07 - val_accuracy: 0.0000e+00\n",
      "Epoch 20/21\n",
      "83/83 [==============================] - 1s 7ms/step - loss: 1.8008e-07 - accuracy: 0.1084 - val_loss: 1.9469e-07 - val_accuracy: 0.0000e+00\n",
      "Epoch 21/21\n",
      "83/83 [==============================] - 0s 6ms/step - loss: 1.8008e-07 - accuracy: 0.1065 - val_loss: 1.9469e-07 - val_accuracy: 0.0000e+00\n",
      "finished processing superct_v0_Brain_1.csv\n",
      "start to process /home/jay/Documents/projects/todo_files/ml_final_pro/datasets/pre_processed_datasets/Liver_1.csv\n",
      "Epoch 1/28\n",
      "111/111 [==============================] - 1s 7ms/step - loss: 4.8004e-07 - accuracy: 0.0972 - val_loss: 4.7684e-07 - val_accuracy: 0.0181\n",
      "Epoch 2/28\n",
      "111/111 [==============================] - 1s 6ms/step - loss: 4.8004e-07 - accuracy: 0.1034 - val_loss: 4.7684e-07 - val_accuracy: 0.0181\n",
      "Epoch 3/28\n",
      "111/111 [==============================] - 1s 6ms/step - loss: 4.8004e-07 - accuracy: 0.0986 - val_loss: 4.7684e-07 - val_accuracy: 0.0181\n",
      "Epoch 4/28\n",
      "111/111 [==============================] - 1s 6ms/step - loss: 4.8004e-07 - accuracy: 0.1065 - val_loss: 4.7684e-07 - val_accuracy: 0.0181\n",
      "Epoch 5/28\n",
      "111/111 [==============================] - 1s 6ms/step - loss: 4.8004e-07 - accuracy: 0.1023 - val_loss: 4.7684e-07 - val_accuracy: 0.0181\n",
      "Epoch 6/28\n",
      "111/111 [==============================] - 1s 7ms/step - loss: 4.8004e-07 - accuracy: 0.0955 - val_loss: 4.7684e-07 - val_accuracy: 0.0181\n",
      "Epoch 7/28\n",
      "111/111 [==============================] - 1s 7ms/step - loss: 4.8004e-07 - accuracy: 0.1062 - val_loss: 4.7684e-07 - val_accuracy: 0.0181\n",
      "Epoch 8/28\n",
      "111/111 [==============================] - 1s 7ms/step - loss: 4.8004e-07 - accuracy: 0.0958 - val_loss: 4.7684e-07 - val_accuracy: 0.0181\n",
      "Epoch 9/28\n",
      "111/111 [==============================] - 1s 7ms/step - loss: 4.8004e-07 - accuracy: 0.0910 - val_loss: 4.7684e-07 - val_accuracy: 0.0181\n",
      "Epoch 10/28\n",
      "111/111 [==============================] - 1s 7ms/step - loss: 4.8004e-07 - accuracy: 0.0935 - val_loss: 4.7684e-07 - val_accuracy: 0.0181\n",
      "Epoch 11/28\n",
      "111/111 [==============================] - 1s 7ms/step - loss: 4.8004e-07 - accuracy: 0.0983 - val_loss: 4.7684e-07 - val_accuracy: 0.0181\n",
      "Epoch 12/28\n",
      "111/111 [==============================] - 1s 6ms/step - loss: 4.8004e-07 - accuracy: 0.0969 - val_loss: 4.7684e-07 - val_accuracy: 0.0181\n",
      "Epoch 13/28\n",
      "111/111 [==============================] - 1s 6ms/step - loss: 4.8004e-07 - accuracy: 0.0981 - val_loss: 4.7684e-07 - val_accuracy: 0.0181\n",
      "Epoch 14/28\n",
      "111/111 [==============================] - 1s 6ms/step - loss: 4.8004e-07 - accuracy: 0.0904 - val_loss: 4.7684e-07 - val_accuracy: 0.0181\n",
      "Epoch 15/28\n",
      "111/111 [==============================] - 1s 7ms/step - loss: 4.8004e-07 - accuracy: 0.0992 - val_loss: 4.7684e-07 - val_accuracy: 0.0181\n",
      "Epoch 16/28\n",
      "111/111 [==============================] - 1s 7ms/step - loss: 4.8004e-07 - accuracy: 0.0986 - val_loss: 4.7684e-07 - val_accuracy: 0.0181\n",
      "Epoch 17/28\n",
      "111/111 [==============================] - 1s 7ms/step - loss: 4.8004e-07 - accuracy: 0.0983 - val_loss: 4.7684e-07 - val_accuracy: 0.0181\n",
      "Epoch 18/28\n",
      "111/111 [==============================] - 1s 7ms/step - loss: 4.8004e-07 - accuracy: 0.0955 - val_loss: 4.7684e-07 - val_accuracy: 0.0181\n",
      "Epoch 19/28\n",
      "111/111 [==============================] - 1s 7ms/step - loss: 4.8004e-07 - accuracy: 0.0938 - val_loss: 4.7684e-07 - val_accuracy: 0.0181\n",
      "Epoch 20/28\n",
      "111/111 [==============================] - 1s 7ms/step - loss: 4.8004e-07 - accuracy: 0.0947 - val_loss: 4.7684e-07 - val_accuracy: 0.0181\n",
      "Epoch 21/28\n",
      "111/111 [==============================] - 1s 7ms/step - loss: 4.8004e-07 - accuracy: 0.1045 - val_loss: 4.7684e-07 - val_accuracy: 0.0181\n",
      "Epoch 22/28\n",
      "111/111 [==============================] - 1s 6ms/step - loss: 4.8004e-07 - accuracy: 0.0927 - val_loss: 4.7684e-07 - val_accuracy: 0.0181\n",
      "Epoch 23/28\n",
      "111/111 [==============================] - 1s 6ms/step - loss: 4.8004e-07 - accuracy: 0.1043 - val_loss: 4.7684e-07 - val_accuracy: 0.0181\n",
      "Epoch 24/28\n",
      "111/111 [==============================] - 1s 7ms/step - loss: 4.8004e-07 - accuracy: 0.0930 - val_loss: 4.7684e-07 - val_accuracy: 0.0181\n",
      "Epoch 25/28\n",
      "111/111 [==============================] - 1s 7ms/step - loss: 4.8004e-07 - accuracy: 0.0995 - val_loss: 4.7684e-07 - val_accuracy: 0.0181\n",
      "Epoch 26/28\n",
      "111/111 [==============================] - 1s 7ms/step - loss: 4.8004e-07 - accuracy: 0.0955 - val_loss: 4.7684e-07 - val_accuracy: 0.0181\n",
      "Epoch 27/28\n",
      "111/111 [==============================] - 1s 7ms/step - loss: 4.8004e-07 - accuracy: 0.0969 - val_loss: 4.7684e-07 - val_accuracy: 0.0181\n",
      "Epoch 28/28\n",
      "111/111 [==============================] - 1s 7ms/step - loss: 4.8004e-07 - accuracy: 0.0958 - val_loss: 4.7684e-07 - val_accuracy: 0.0181\n",
      "finished processing superct_v0_Liver_1.csv\n",
      "start to process /home/jay/Documents/projects/todo_files/ml_final_pro/datasets/pre_processed_datasets/PeripheralBlood_1.csv\n",
      "Epoch 1/2\n",
      "8/8 [==============================] - 0s 14ms/step - loss: 1.5671e-06 - accuracy: 0.0000e+00 - val_loss: 1.6355e-06 - val_accuracy: 0.0000e+00\n",
      "Epoch 2/2\n",
      "8/8 [==============================] - 0s 7ms/step - loss: 1.5671e-06 - accuracy: 0.0088 - val_loss: 1.6355e-06 - val_accuracy: 0.0000e+00\n",
      "finished processing superct_v0_PeripheralBlood_1.csv\n",
      "start to process /home/jay/Documents/projects/todo_files/ml_final_pro/datasets/pre_processed_datasets/NeonatalMuscle_2.csv\n",
      "Epoch 1/26\n",
      "102/102 [==============================] - 1s 8ms/step - loss: 8.5728e-07 - accuracy: 0.0399 - val_loss: 8.8648e-07 - val_accuracy: 0.0012\n",
      "Epoch 2/26\n",
      "102/102 [==============================] - 1s 7ms/step - loss: 8.5728e-07 - accuracy: 0.0519 - val_loss: 8.8648e-07 - val_accuracy: 0.0012\n",
      "Epoch 3/26\n",
      "102/102 [==============================] - 1s 7ms/step - loss: 8.5728e-07 - accuracy: 0.0476 - val_loss: 8.8648e-07 - val_accuracy: 0.0012\n",
      "Epoch 4/26\n",
      "102/102 [==============================] - 1s 7ms/step - loss: 8.5728e-07 - accuracy: 0.0461 - val_loss: 8.8648e-07 - val_accuracy: 0.0012\n",
      "Epoch 5/26\n",
      "102/102 [==============================] - 1s 7ms/step - loss: 8.5728e-07 - accuracy: 0.0451 - val_loss: 8.8648e-07 - val_accuracy: 0.0012\n",
      "Epoch 6/26\n",
      "102/102 [==============================] - 1s 7ms/step - loss: 8.5728e-07 - accuracy: 0.0457 - val_loss: 8.8648e-07 - val_accuracy: 0.0012\n",
      "Epoch 7/26\n",
      "102/102 [==============================] - 1s 7ms/step - loss: 8.5728e-07 - accuracy: 0.0448 - val_loss: 8.8648e-07 - val_accuracy: 0.0012\n",
      "Epoch 8/26\n",
      "102/102 [==============================] - 1s 7ms/step - loss: 8.5728e-07 - accuracy: 0.0439 - val_loss: 8.8648e-07 - val_accuracy: 0.0012\n",
      "Epoch 9/26\n",
      "102/102 [==============================] - 1s 7ms/step - loss: 8.5728e-07 - accuracy: 0.0420 - val_loss: 8.8648e-07 - val_accuracy: 0.0012\n",
      "Epoch 10/26\n",
      "102/102 [==============================] - 1s 8ms/step - loss: 8.5728e-07 - accuracy: 0.0383 - val_loss: 8.8648e-07 - val_accuracy: 0.0012\n",
      "Epoch 11/26\n",
      "102/102 [==============================] - 1s 7ms/step - loss: 8.5728e-07 - accuracy: 0.0451 - val_loss: 8.8648e-07 - val_accuracy: 0.0012\n",
      "Epoch 12/26\n",
      "102/102 [==============================] - 1s 7ms/step - loss: 8.5728e-07 - accuracy: 0.0423 - val_loss: 8.8648e-07 - val_accuracy: 0.0012\n",
      "Epoch 13/26\n",
      "102/102 [==============================] - 1s 7ms/step - loss: 8.5728e-07 - accuracy: 0.0504 - val_loss: 8.8648e-07 - val_accuracy: 0.0012\n",
      "Epoch 14/26\n",
      "102/102 [==============================] - 1s 7ms/step - loss: 8.5728e-07 - accuracy: 0.0411 - val_loss: 8.8648e-07 - val_accuracy: 0.0012\n",
      "Epoch 15/26\n",
      "102/102 [==============================] - 1s 7ms/step - loss: 8.5728e-07 - accuracy: 0.0436 - val_loss: 8.8648e-07 - val_accuracy: 0.0012\n",
      "Epoch 16/26\n",
      "102/102 [==============================] - 1s 7ms/step - loss: 8.5728e-07 - accuracy: 0.0405 - val_loss: 8.8648e-07 - val_accuracy: 0.0012\n",
      "Epoch 17/26\n",
      "102/102 [==============================] - 1s 7ms/step - loss: 8.5728e-07 - accuracy: 0.0386 - val_loss: 8.8648e-07 - val_accuracy: 0.0012\n",
      "Epoch 18/26\n",
      "102/102 [==============================] - 1s 7ms/step - loss: 8.5728e-07 - accuracy: 0.0504 - val_loss: 8.8648e-07 - val_accuracy: 0.0012\n",
      "Epoch 19/26\n",
      "102/102 [==============================] - 1s 7ms/step - loss: 8.5728e-07 - accuracy: 0.0399 - val_loss: 8.8648e-07 - val_accuracy: 0.0012\n",
      "Epoch 20/26\n",
      "102/102 [==============================] - 1s 7ms/step - loss: 8.5728e-07 - accuracy: 0.0374 - val_loss: 8.8648e-07 - val_accuracy: 0.0012\n",
      "Epoch 21/26\n",
      "102/102 [==============================] - 1s 7ms/step - loss: 8.5728e-07 - accuracy: 0.0393 - val_loss: 8.8648e-07 - val_accuracy: 0.0012\n",
      "Epoch 22/26\n",
      "102/102 [==============================] - 1s 7ms/step - loss: 8.5728e-07 - accuracy: 0.0402 - val_loss: 8.8648e-07 - val_accuracy: 0.0012\n",
      "Epoch 23/26\n",
      "102/102 [==============================] - 1s 8ms/step - loss: 8.5728e-07 - accuracy: 0.0442 - val_loss: 8.8648e-07 - val_accuracy: 0.0012\n",
      "Epoch 24/26\n",
      "102/102 [==============================] - 1s 7ms/step - loss: 8.5728e-07 - accuracy: 0.0377 - val_loss: 8.8648e-07 - val_accuracy: 0.0012\n",
      "Epoch 25/26\n",
      "102/102 [==============================] - 1s 7ms/step - loss: 8.5728e-07 - accuracy: 0.0411 - val_loss: 8.8648e-07 - val_accuracy: 0.0012\n",
      "Epoch 26/26\n",
      "102/102 [==============================] - 1s 7ms/step - loss: 8.5728e-07 - accuracy: 0.0423 - val_loss: 8.8648e-07 - val_accuracy: 0.0012\n",
      "finished processing superct_v0_NeonatalMuscle_2.csv\n",
      "start to process /home/jay/Documents/projects/todo_files/ml_final_pro/datasets/pre_processed_datasets/Lung_2.csv\n",
      "Epoch 1/9\n",
      "36/36 [==============================] - 0s 8ms/step - loss: 9.4746e-07 - accuracy: 0.0575 - val_loss: 9.4693e-07 - val_accuracy: 0.0141\n",
      "Epoch 2/9\n",
      "36/36 [==============================] - 0s 6ms/step - loss: 9.4746e-07 - accuracy: 0.0601 - val_loss: 9.4693e-07 - val_accuracy: 0.0141\n",
      "Epoch 3/9\n",
      "36/36 [==============================] - 0s 6ms/step - loss: 9.4746e-07 - accuracy: 0.0681 - val_loss: 9.4693e-07 - val_accuracy: 0.0141\n",
      "Epoch 4/9\n",
      "36/36 [==============================] - 0s 6ms/step - loss: 9.4746e-07 - accuracy: 0.0513 - val_loss: 9.4693e-07 - val_accuracy: 0.0141\n",
      "Epoch 5/9\n",
      "36/36 [==============================] - 0s 6ms/step - loss: 9.4746e-07 - accuracy: 0.0663 - val_loss: 9.4693e-07 - val_accuracy: 0.0141\n",
      "Epoch 6/9\n",
      "36/36 [==============================] - 0s 6ms/step - loss: 9.4746e-07 - accuracy: 0.0769 - val_loss: 9.4693e-07 - val_accuracy: 0.0141\n",
      "Epoch 7/9\n",
      "36/36 [==============================] - 0s 7ms/step - loss: 9.4746e-07 - accuracy: 0.0734 - val_loss: 9.4693e-07 - val_accuracy: 0.0141\n",
      "Epoch 8/9\n",
      "36/36 [==============================] - 0s 7ms/step - loss: 9.4746e-07 - accuracy: 0.0734 - val_loss: 9.4693e-07 - val_accuracy: 0.0141\n",
      "Epoch 9/9\n",
      "36/36 [==============================] - 0s 7ms/step - loss: 9.4746e-07 - accuracy: 0.0760 - val_loss: 9.4693e-07 - val_accuracy: 0.0141\n",
      "finished processing superct_v0_Lung_2.csv\n",
      "start to process /home/jay/Documents/projects/todo_files/ml_final_pro/datasets/pre_processed_datasets/Prostate_1.csv\n",
      "Epoch 1/7\n",
      "26/26 [==============================] - 0s 8ms/step - loss: 1.4728e-07 - accuracy: 0.0340 - val_loss: 1.6125e-07 - val_accuracy: 0.0000e+00\n",
      "Epoch 2/7\n",
      "26/26 [==============================] - 0s 6ms/step - loss: 1.4728e-07 - accuracy: 0.0206 - val_loss: 1.6125e-07 - val_accuracy: 0.0000e+00\n",
      "Epoch 3/7\n",
      "26/26 [==============================] - 0s 6ms/step - loss: 1.4728e-07 - accuracy: 0.0255 - val_loss: 1.6125e-07 - val_accuracy: 0.0000e+00\n",
      "Epoch 4/7\n",
      "26/26 [==============================] - 0s 6ms/step - loss: 1.4728e-07 - accuracy: 0.0218 - val_loss: 1.6125e-07 - val_accuracy: 0.0000e+00\n",
      "Epoch 5/7\n",
      "26/26 [==============================] - 0s 6ms/step - loss: 1.4728e-07 - accuracy: 0.0255 - val_loss: 1.6125e-07 - val_accuracy: 0.0000e+00\n",
      "Epoch 6/7\n",
      "26/26 [==============================] - 0s 6ms/step - loss: 1.4728e-07 - accuracy: 0.0255 - val_loss: 1.6125e-07 - val_accuracy: 0.0000e+00\n",
      "Epoch 7/7\n",
      "26/26 [==============================] - 0s 6ms/step - loss: 1.4728e-07 - accuracy: 0.0206 - val_loss: 1.6125e-07 - val_accuracy: 0.0000e+00\n",
      "finished processing superct_v0_Prostate_1.csv\n"
     ]
    }
   ],
   "source": [
    " # processed_dge folder contains all new defined datasets\n",
    " # get all shapes from processed_dge files\n",
    " for root, dirs, files in os.walk(\"/home/jay/Documents/projects/todo_files/ml_final_pro/datasets/pre_processed_datasets\", topdown=False):\n",
    "     for name in files:\n",
    "        file_dir = os.path.join(root, name)\n",
    "        train_and_save(file_dir)"
   ]
  },
  {
   "cell_type": "code",
   "execution_count": null,
   "metadata": {},
   "outputs": [],
   "source": []
  },
  {
   "cell_type": "code",
   "execution_count": null,
   "metadata": {},
   "outputs": [],
   "source": []
  },
  {
   "cell_type": "code",
   "execution_count": null,
   "metadata": {},
   "outputs": [],
   "source": []
  },
  {
   "cell_type": "code",
   "execution_count": null,
   "metadata": {},
   "outputs": [],
   "source": []
  },
  {
   "cell_type": "code",
   "execution_count": null,
   "metadata": {},
   "outputs": [],
   "source": []
  },
  {
   "cell_type": "code",
   "execution_count": null,
   "metadata": {},
   "outputs": [],
   "source": []
  },
  {
   "cell_type": "code",
   "execution_count": null,
   "metadata": {},
   "outputs": [],
   "source": []
  },
  {
   "cell_type": "code",
   "execution_count": 65,
   "metadata": {},
   "outputs": [
    {
     "output_type": "stream",
     "name": "stdout",
     "text": [
      "Epoch 1/14\n",
      "55/55 [==============================] - 1s 11ms/step - loss: 5.1526e-07 - accuracy: 0.0547 - val_loss: 5.0474e-07 - val_accuracy: 0.0023\n",
      "Epoch 2/14\n",
      "55/55 [==============================] - 0s 9ms/step - loss: 5.1526e-07 - accuracy: 0.0541 - val_loss: 5.0474e-07 - val_accuracy: 0.0023\n",
      "Epoch 3/14\n",
      "55/55 [==============================] - 0s 8ms/step - loss: 5.1526e-07 - accuracy: 0.0444 - val_loss: 5.0474e-07 - val_accuracy: 0.0023\n",
      "Epoch 4/14\n",
      "55/55 [==============================] - 0s 8ms/step - loss: 5.1526e-07 - accuracy: 0.0524 - val_loss: 5.0474e-07 - val_accuracy: 0.0023\n",
      "Epoch 5/14\n",
      "55/55 [==============================] - 0s 8ms/step - loss: 5.1526e-07 - accuracy: 0.0478 - val_loss: 5.0474e-07 - val_accuracy: 0.0023\n",
      "Epoch 6/14\n",
      "55/55 [==============================] - 0s 8ms/step - loss: 5.1526e-07 - accuracy: 0.0558 - val_loss: 5.0474e-07 - val_accuracy: 0.0023\n",
      "Epoch 7/14\n",
      "55/55 [==============================] - 0s 8ms/step - loss: 5.1526e-07 - accuracy: 0.0507 - val_loss: 5.0474e-07 - val_accuracy: 0.0023\n",
      "Epoch 8/14\n",
      "55/55 [==============================] - 0s 8ms/step - loss: 5.1526e-07 - accuracy: 0.0495 - val_loss: 5.0474e-07 - val_accuracy: 0.0023\n",
      "Epoch 9/14\n",
      "55/55 [==============================] - 0s 8ms/step - loss: 5.1526e-07 - accuracy: 0.0541 - val_loss: 5.0474e-07 - val_accuracy: 0.0023\n",
      "Epoch 10/14\n",
      "55/55 [==============================] - 0s 8ms/step - loss: 5.1526e-07 - accuracy: 0.0569 - val_loss: 5.0474e-07 - val_accuracy: 0.0023\n",
      "Epoch 11/14\n",
      "55/55 [==============================] - 0s 8ms/step - loss: 5.1526e-07 - accuracy: 0.0649 - val_loss: 5.0474e-07 - val_accuracy: 0.0023\n",
      "Epoch 12/14\n",
      "55/55 [==============================] - 0s 8ms/step - loss: 5.1526e-07 - accuracy: 0.0569 - val_loss: 5.0474e-07 - val_accuracy: 0.0023\n",
      "Epoch 13/14\n",
      "55/55 [==============================] - 0s 9ms/step - loss: 5.1526e-07 - accuracy: 0.0490 - val_loss: 5.0474e-07 - val_accuracy: 0.0023\n",
      "Epoch 14/14\n",
      "55/55 [==============================] - 0s 8ms/step - loss: 5.1526e-07 - accuracy: 0.0558 - val_loss: 5.0474e-07 - val_accuracy: 0.0023\n",
      "finished processing Bladder_1.csv\n"
     ]
    }
   ],
   "source": [
    "train_and_save('/home/jay/Documents/projects/todo_files/ml_final_pro/datasets/pre_processed_datasets/Bladder_1.csv')\n",
    "print('done')"
   ]
  },
  {
   "cell_type": "code",
   "execution_count": null,
   "metadata": {},
   "outputs": [],
   "source": []
  },
  {
   "cell_type": "code",
   "execution_count": null,
   "metadata": {},
   "outputs": [],
   "source": []
  },
  {
   "cell_type": "code",
   "execution_count": null,
   "metadata": {},
   "outputs": [],
   "source": []
  },
  {
   "cell_type": "code",
   "execution_count": null,
   "metadata": {},
   "outputs": [],
   "source": []
  },
  {
   "cell_type": "code",
   "execution_count": null,
   "metadata": {},
   "outputs": [],
   "source": []
  },
  {
   "cell_type": "code",
   "execution_count": null,
   "metadata": {},
   "outputs": [],
   "source": []
  },
  {
   "cell_type": "code",
   "execution_count": null,
   "metadata": {},
   "outputs": [],
   "source": []
  },
  {
   "cell_type": "code",
   "execution_count": 25,
   "metadata": {},
   "outputs": [],
   "source": [
    "X_train, X_test, y_train, y_test = load_dataset_from_dir('/home/jay/Documents/projects/todo_files/ml_final_pro/datasets/pre_processed_datasets/Bladder_1.csv')"
   ]
  },
  {
   "cell_type": "code",
   "execution_count": 26,
   "metadata": {},
   "outputs": [],
   "source": [
    "model = create_superct_model(X_train.shape[1])"
   ]
  },
  {
   "cell_type": "code",
   "execution_count": 28,
   "metadata": {},
   "outputs": [],
   "source": [
    "batch_size = 128\n",
    "# round up the epches\n",
    "num_epoches = math.ceil(X_train.shape[0]/batch_size)"
   ]
  },
  {
   "cell_type": "code",
   "execution_count": 58,
   "metadata": {},
   "outputs": [],
   "source": [
    "with open('histor_test.txt','w') as f:\n",
    "    f.write('/home/jay/Documents/projects/todo_files/ml_final_pro/datasets/pre_processed_datasets/Bladder_1.csv')\n",
    "    f.write('\\n')\n",
    "    f.write('the number of observations: %d'%X_train.shape[0])\n",
    "    f.write('\\n')\n",
    "    f.write('the number of features: %d'%X_train.shape[1])\n",
    "    f.write('\\n')\n",
    "    f.write(dictionary_list(history.history))"
   ]
  },
  {
   "cell_type": "code",
   "execution_count": 31,
   "metadata": {},
   "outputs": [
    {
     "output_type": "stream",
     "name": "stdout",
     "text": [
      "Bladder_1.csv\n"
     ]
    }
   ],
   "source": [
    "print(os.path.basename('/home/jay/Documents/projects/todo_files/ml_final_pro/datasets/pre_processed_datasets/Bladder_1.csv'))"
   ]
  },
  {
   "cell_type": "code",
   "execution_count": 32,
   "metadata": {},
   "outputs": [
    {
     "output_type": "execute_result",
     "data": {
      "text/plain": [
       "'Bladder_1txt'"
      ]
     },
     "metadata": {},
     "execution_count": 32
    }
   ],
   "source": [
    "'Bladder_1.csv'.replace('.csv', '.txt')"
   ]
  },
  {
   "cell_type": "code",
   "execution_count": 39,
   "metadata": {},
   "outputs": [],
   "source": [
    "import json"
   ]
  },
  {
   "cell_type": "code",
   "execution_count": 41,
   "metadata": {},
   "outputs": [
    {
     "output_type": "execute_result",
     "data": {
      "text/plain": [
       "'{\"loss\": [5.1315367954885e-07, 5.1315367954885e-07, 5.1315367954885e-07, 5.1315367954885e-07, 5.1315367954885e-07, 5.1315367954885e-07, 5.1315367954885e-07, 5.1315367954885e-07, 5.1315367954885e-07, 5.1315367954885e-07, 5.1315367954885e-07, 5.1315367954885e-07, 5.1315367954885e-07, 5.1315367954885e-07, 5.1315367954885e-07, 5.1315367954885e-07, 5.1315367954885e-07, 5.1315367954885e-07], \"accuracy\": [0.02504553645849228, 0.024134790524840355, 0.025956284254789352, 0.023679416626691818, 0.019581057131290436, 0.025956284254789352, 0.022313296794891357, 0.0173041895031929, 0.02185792289674282, 0.023679416626691818, 0.02185792289674282, 0.018670309334993362, 0.02185792289674282, 0.02322404459118843, 0.025500910356640816, 0.02504553645849228, 0.018670309334993362, 0.02641165815293789]}'"
      ]
     },
     "metadata": {},
     "execution_count": 41
    }
   ],
   "source": [
    "json.dumps(history.history)"
   ]
  },
  {
   "cell_type": "code",
   "execution_count": 42,
   "metadata": {},
   "outputs": [
    {
     "output_type": "execute_result",
     "data": {
      "text/plain": [
       "\"{'loss': [5.1315367954885e-07, 5.1315367954885e-07, 5.1315367954885e-07, 5.1315367954885e-07, 5.1315367954885e-07, 5.1315367954885e-07, 5.1315367954885e-07, 5.1315367954885e-07, 5.1315367954885e-07, 5.1315367954885e-07, 5.1315367954885e-07, 5.1315367954885e-07, 5.1315367954885e-07, 5.1315367954885e-07, 5.1315367954885e-07, 5.1315367954885e-07, 5.1315367954885e-07, 5.1315367954885e-07], 'accuracy': [0.02504553645849228, 0.024134790524840355, 0.025956284254789352, 0.023679416626691818, 0.019581057131290436, 0.025956284254789352, 0.022313296794891357, 0.0173041895031929, 0.02185792289674282, 0.023679416626691818, 0.02185792289674282, 0.018670309334993362, 0.02185792289674282, 0.02322404459118843, 0.025500910356640816, 0.02504553645849228, 0.018670309334993362, 0.02641165815293789]}\""
      ]
     },
     "metadata": {},
     "execution_count": 42
    }
   ],
   "source": [
    "str(history.history)"
   ]
  },
  {
   "cell_type": "code",
   "execution_count": 45,
   "metadata": {},
   "outputs": [
    {
     "output_type": "error",
     "ename": "TypeError",
     "evalue": "sequence item 0: expected str instance, float found",
     "traceback": [
      "\u001b[0;31m---------------------------------------------------------------------------\u001b[0m",
      "\u001b[0;31mTypeError\u001b[0m                                 Traceback (most recent call last)",
      "\u001b[0;32m<ipython-input-45-3092a3b9f85a>\u001b[0m in \u001b[0;36m<module>\u001b[0;34m\u001b[0m\n\u001b[0;32m----> 1\u001b[0;31m \u001b[0mprint\u001b[0m\u001b[0;34m(\u001b[0m\u001b[0;34m\"{\"\u001b[0m \u001b[0;34m+\u001b[0m \u001b[0;34m\"\\n\"\u001b[0m\u001b[0;34m.\u001b[0m\u001b[0mjoin\u001b[0m\u001b[0;34m(\u001b[0m\u001b[0;34m\"{!r}: {!r},\"\u001b[0m\u001b[0;34m.\u001b[0m\u001b[0mformat\u001b[0m\u001b[0;34m(\u001b[0m\u001b[0mk\u001b[0m\u001b[0;34m,\u001b[0m \u001b[0;34m\"\\n\"\u001b[0m\u001b[0;34m.\u001b[0m\u001b[0mjoin\u001b[0m\u001b[0;34m(\u001b[0m\u001b[0mv\u001b[0m\u001b[0;34m)\u001b[0m\u001b[0;34m)\u001b[0m \u001b[0;32mfor\u001b[0m \u001b[0mk\u001b[0m\u001b[0;34m,\u001b[0m \u001b[0mv\u001b[0m \u001b[0;32min\u001b[0m \u001b[0mhistory\u001b[0m\u001b[0;34m.\u001b[0m\u001b[0mhistory\u001b[0m\u001b[0;34m.\u001b[0m\u001b[0mitems\u001b[0m\u001b[0;34m(\u001b[0m\u001b[0;34m)\u001b[0m\u001b[0;34m)\u001b[0m \u001b[0;34m+\u001b[0m \u001b[0;34m\"}\"\u001b[0m\u001b[0;34m)\u001b[0m\u001b[0;34m\u001b[0m\u001b[0;34m\u001b[0m\u001b[0m\n\u001b[0m",
      "\u001b[0;32m<ipython-input-45-3092a3b9f85a>\u001b[0m in \u001b[0;36m<genexpr>\u001b[0;34m(.0)\u001b[0m\n\u001b[0;32m----> 1\u001b[0;31m \u001b[0mprint\u001b[0m\u001b[0;34m(\u001b[0m\u001b[0;34m\"{\"\u001b[0m \u001b[0;34m+\u001b[0m \u001b[0;34m\"\\n\"\u001b[0m\u001b[0;34m.\u001b[0m\u001b[0mjoin\u001b[0m\u001b[0;34m(\u001b[0m\u001b[0;34m\"{!r}: {!r},\"\u001b[0m\u001b[0;34m.\u001b[0m\u001b[0mformat\u001b[0m\u001b[0;34m(\u001b[0m\u001b[0mk\u001b[0m\u001b[0;34m,\u001b[0m \u001b[0;34m\"\\n\"\u001b[0m\u001b[0;34m.\u001b[0m\u001b[0mjoin\u001b[0m\u001b[0;34m(\u001b[0m\u001b[0mv\u001b[0m\u001b[0;34m)\u001b[0m\u001b[0;34m)\u001b[0m \u001b[0;32mfor\u001b[0m \u001b[0mk\u001b[0m\u001b[0;34m,\u001b[0m \u001b[0mv\u001b[0m \u001b[0;32min\u001b[0m \u001b[0mhistory\u001b[0m\u001b[0;34m.\u001b[0m\u001b[0mhistory\u001b[0m\u001b[0;34m.\u001b[0m\u001b[0mitems\u001b[0m\u001b[0;34m(\u001b[0m\u001b[0;34m)\u001b[0m\u001b[0;34m)\u001b[0m \u001b[0;34m+\u001b[0m \u001b[0;34m\"}\"\u001b[0m\u001b[0;34m)\u001b[0m\u001b[0;34m\u001b[0m\u001b[0;34m\u001b[0m\u001b[0m\n\u001b[0m",
      "\u001b[0;31mTypeError\u001b[0m: sequence item 0: expected str instance, float found"
     ]
    }
   ],
   "source": [
    "print(\"{\" + \"\\n\".join(\"{!r}: {!r},\".format(k, \"\\n\".join(v)) for k, v in history.history.items()) + \"}\")"
   ]
  },
  {
   "cell_type": "code",
   "execution_count": 57,
   "metadata": {},
   "outputs": [],
   "source": [
    "def dictionary_list (input_dic):\n",
    "    return_str = ''\n",
    "    for k, v in input_dic.items():\n",
    "        return_str+=str(k)\n",
    "        return_str+='\\n\\t'\n",
    "        float_list = map(str, v) \n",
    "        return_str+='\\n\\t'.join(float_list)\n",
    "        return_str+='\\n'\n",
    "        return_str+='\\n'\n",
    "    return return_str\n"
   ]
  },
  {
   "cell_type": "code",
   "execution_count": 56,
   "metadata": {},
   "outputs": [
    {
     "output_type": "execute_result",
     "data": {
      "text/plain": [
       "'loss\\n5.1315367954885e-07\\t\\n5.1315367954885e-07\\t\\n5.1315367954885e-07\\t\\n5.1315367954885e-07\\t\\n5.1315367954885e-07\\t\\n5.1315367954885e-07\\t\\n5.1315367954885e-07\\t\\n5.1315367954885e-07\\t\\n5.1315367954885e-07\\t\\n5.1315367954885e-07\\t\\n5.1315367954885e-07\\t\\n5.1315367954885e-07\\t\\n5.1315367954885e-07\\t\\n5.1315367954885e-07\\t\\n5.1315367954885e-07\\t\\n5.1315367954885e-07\\t\\n5.1315367954885e-07\\t\\n5.1315367954885e-07\\n\\naccuracy\\n0.02504553645849228\\t\\n0.024134790524840355\\t\\n0.025956284254789352\\t\\n0.023679416626691818\\t\\n0.019581057131290436\\t\\n0.025956284254789352\\t\\n0.022313296794891357\\t\\n0.0173041895031929\\t\\n0.02185792289674282\\t\\n0.023679416626691818\\t\\n0.02185792289674282\\t\\n0.018670309334993362\\t\\n0.02185792289674282\\t\\n0.02322404459118843\\t\\n0.025500910356640816\\t\\n0.02504553645849228\\t\\n0.018670309334993362\\t\\n0.02641165815293789\\n\\n'"
      ]
     },
     "metadata": {},
     "execution_count": 56
    }
   ],
   "source": [
    "dictionary_list(history.history)"
   ]
  },
  {
   "cell_type": "code",
   "execution_count": null,
   "metadata": {},
   "outputs": [],
   "source": []
  }
 ]
}