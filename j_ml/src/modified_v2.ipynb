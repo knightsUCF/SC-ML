{
 "metadata": {
  "language_info": {
   "codemirror_mode": {
    "name": "ipython",
    "version": 3
   },
   "file_extension": ".py",
   "mimetype": "text/x-python",
   "name": "python",
   "nbconvert_exporter": "python",
   "pygments_lexer": "ipython3",
   "version": "3.8.5"
  },
  "orig_nbformat": 2,
  "kernelspec": {
   "name": "python385jvsc74a57bd031f2aee4e71d21fbe5cf8b01ff0e069b9275f58929596ceb00d14d90e3e16cd6",
   "display_name": "Python 3.8.5 64-bit"
  },
  "metadata": {
   "interpreter": {
    "hash": "31f2aee4e71d21fbe5cf8b01ff0e069b9275f58929596ceb00d14d90e3e16cd6"
   }
  }
 },
 "nbformat": 4,
 "nbformat_minor": 2,
 "cells": [
  {
   "cell_type": "code",
   "execution_count": 1,
   "metadata": {},
   "outputs": [],
   "source": [
    "import h5py\n",
    "import numpy as np\n",
    "import pandas as pd\n",
    "import tensorflow as tf\n",
    "from sklearn.model_selection import train_test_split\n",
    "from sklearn.preprocessing import LabelEncoder\n",
    "from tensorflow.keras.models import Sequential\n",
    "from tensorflow.keras.layers import Dense\n",
    "from tensorflow.keras.layers import Dropout\n",
    "from tensorflow.keras.utils import HDF5Matrix\n",
    "import math\n",
    "import os"
   ]
  },
  {
   "cell_type": "code",
   "execution_count": 2,
   "metadata": {},
   "outputs": [],
   "source": [
    "def create_superct_model(n_features):\n",
    "    model = Sequential()\n",
    "    model.add(Dense(200, input_dim = n_features, activation = 'relu'))\n",
    "    model.add(Dense(100, activation = 'relu'))\n",
    "    model.add(Dense(1, activation = 'relu'))\n",
    "    model.compile(optimizer='SGD', loss='categorical_crossentropy', metrics=['accuracy'])\n",
    "    return model"
   ]
  },
  {
   "cell_type": "code",
   "execution_count": 3,
   "metadata": {},
   "outputs": [],
   "source": [
    "def load_dataset_from_dir(file_dir):\n",
    "    d_df = pd.read_csv(file_dir)\n",
    "    X = d_df.iloc[:,1:-2]\n",
    "    y = d_df['target_id']\n",
    "    X_train, X_test, y_train, y_test = train_test_split(X, y, test_size=0.2, random_state=42)\n",
    "    return X_train, X_test, y_train, y_test"
   ]
  },
  {
   "cell_type": "code",
   "execution_count": 4,
   "metadata": {},
   "outputs": [],
   "source": [
    "def dictionary_list (input_dic):\n",
    "    return_str = ''\n",
    "    for k, v in input_dic.items():\n",
    "        return_str+=str(k)\n",
    "        return_str+='\\n\\t'\n",
    "        float_list = map(str, v) \n",
    "        return_str+='\\n\\t'.join(float_list)\n",
    "        return_str+='\\n'\n",
    "        return_str+='\\n'\n",
    "    return return_str"
   ]
  },
  {
   "cell_type": "code",
   "execution_count": 5,
   "metadata": {},
   "outputs": [],
   "source": [
    "def train_and_save(file_dir):\n",
    "    print('start to process %s'%file_dir)\n",
    "    X_train, X_test, y_train, y_test = load_dataset_from_dir(file_dir)\n",
    "    batch_size = 128\n",
    "    # round up the epches\n",
    "    num_epoches = math.ceil(X_train.shape[0]/batch_size)\n",
    "    model = create_superct_model(X_train.shape[1])\n",
    "    history = model.fit(X_train, y_train, epochs=num_epoches, validation_data=(X_test, y_test))\n",
    "    file_name = os.path.basename(file_dir)\n",
    "    file_name = 'superct_v2_'+file_name\n",
    "    history_name = file_name.replace('.csv', '.txt')\n",
    "    output_model_name = file_name.replace('.csv', '.hdf5')\n",
    "    with open(history_name, 'w') as f:\n",
    "        f.write(file_name)\n",
    "        f.write('\\n')\n",
    "        f.write('the number of observations: %d'%X_train.shape[0])\n",
    "        f.write('\\n')\n",
    "        f.write('the number of features: %d'%X_train.shape[1])\n",
    "        f.write('\\n')\n",
    "        f.write(dictionary_list(history.history))\n",
    "    model.save(output_model_name)\n",
    "    print('finished processing %s'%file_name)"
   ]
  },
  {
   "cell_type": "code",
   "execution_count": 6,
   "metadata": {},
   "outputs": [
    {
     "output_type": "stream",
     "name": "stdout",
     "text": [
      "start to process /home/jay/Documents/projects/todo_files/ml_final_pro/datasets/pre_processed_datasets/BoneMarrowcKit_1.csv\n"
     ]
    }
   ],
   "source": [
    " # processed_dge folder contains all new defined datasets\n",
    " # get all shapes from processed_dge files\n",
    "for root, dirs, files in os.walk(\"/home/jay/Documents/projects/todo_files/ml_final_pro/datasets/pre_processed_datasets\", topdown=False):\n",
    "    for name in files:\n",
    "        file_dir = os.path.join(root, name)\n",
    "        train_and_save(file_dir)\n",
    "\n",
    "print('done')"
   ]
  },
  {
   "cell_type": "code",
   "execution_count": null,
   "metadata": {},
   "outputs": [],
   "source": []
  }
 ]
}