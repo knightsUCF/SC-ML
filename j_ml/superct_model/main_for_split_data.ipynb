{
 "metadata": {
  "language_info": {
   "codemirror_mode": {
    "name": "ipython",
    "version": 3
   },
   "file_extension": ".py",
   "mimetype": "text/x-python",
   "name": "python",
   "nbconvert_exporter": "python",
   "pygments_lexer": "ipython3",
   "version": "3.8.5"
  },
  "orig_nbformat": 2,
  "kernelspec": {
   "name": "python385jvsc74a57bd031f2aee4e71d21fbe5cf8b01ff0e069b9275f58929596ceb00d14d90e3e16cd6",
   "display_name": "Python 3.8.5 64-bit"
  },
  "metadata": {
   "interpreter": {
    "hash": "31f2aee4e71d21fbe5cf8b01ff0e069b9275f58929596ceb00d14d90e3e16cd6"
   }
  }
 },
 "nbformat": 4,
 "nbformat_minor": 2,
 "cells": [
  {
   "cell_type": "code",
   "execution_count": 1,
   "metadata": {},
   "outputs": [],
   "source": [
    "import h5py\n",
    "import numpy as np\n",
    "import pandas as pd\n",
    "import tensorflow as tf\n",
    "from sklearn.model_selection import train_test_split\n",
    "from sklearn.preprocessing import LabelEncoder\n",
    "from tensorflow.keras.models import Sequential\n",
    "from tensorflow.keras.layers import Dense\n",
    "from tensorflow.keras.layers import Dropout\n",
    "from tensorflow.keras.utils import HDF5Matrix\n",
    "import math"
   ]
  },
  {
   "cell_type": "code",
   "execution_count": 23,
   "metadata": {},
   "outputs": [],
   "source": [
    "def create_superct_model(n_features):\n",
    "    model = Sequential()\n",
    "    model.add(Dense(200, input_dim = n_features, activation = 'relu'))\n",
    "    model.add(Dropout(0.4))\n",
    "    model.add(Dropout(0.4))\n",
    "    model.add(Dense(100, activation = 'relu'))\n",
    "    model.add(Dropout(0.4))\n",
    "    model.add(Dropout(0.4))\n",
    "    model.add(Dense(1, activation = 'relu'))\n",
    "    model.compile(optimizer='SGD', loss='categorical_crossentropy', metrics=['accuracy'])\n",
    "    return model"
   ]
  },
  {
   "cell_type": "code",
   "execution_count": 62,
   "metadata": {},
   "outputs": [],
   "source": [
    "def load_dataset_from_dir(file_dir):\n",
    "    d_df = pd.read_csv(file_dir)\n",
    "    X = d_df.iloc[:,1:-2]\n",
    "    y = d_df['target_id']\n",
    "    X_train, X_test, y_train, y_test = train_test_split(X, y, test_size=0.2, random_state=42)\n",
    "    return X_train, X_test, y_train, y_test"
   ]
  },
  {
   "cell_type": "code",
   "execution_count": 63,
   "metadata": {},
   "outputs": [],
   "source": [
    "def dictionary_list (input_dic):\n",
    "    return_str = ''\n",
    "    for k, v in input_dic.items():\n",
    "        return_str+=str(k)\n",
    "        return_str+='\\n\\t'\n",
    "        float_list = map(str, v) \n",
    "        return_str+='\\n\\t'.join(float_list)\n",
    "        return_str+='\\n'\n",
    "        return_str+='\\n'\n",
    "    return return_str"
   ]
  },
  {
   "cell_type": "code",
   "execution_count": 67,
   "metadata": {},
   "outputs": [],
   "source": [
    "def train_and_save(file_dir):\n",
    "    print('start to process')\n",
    "    X_train, X_test, y_train, y_test = load_dataset_from_dir(file_dir)\n",
    "    batch_size = 128\n",
    "    # round up the epches\n",
    "    num_epoches = math.ceil(X_train.shape[0]/batch_size)\n",
    "    model = create_superct_model(X_train.shape[1])\n",
    "    history = model.fit(X_train, y_train, epochs=num_epoches, validation_data=(X_test, y_test))\n",
    "    file_name = os.path.basename(file_dir)\n",
    "    file_name = 'superct_v0_'+file_name\n",
    "    history_name = file_name.replace('.csv', '.txt')\n",
    "    output_model_name = file_name.replace('.csv', '.hdf5')\n",
    "    with open(history_name, 'w') as f:\n",
    "        f.write(file_name)\n",
    "        f.write('\\n')\n",
    "        f.write('the number of observations: %d'%X_train.shape[0])\n",
    "        f.write('\\n')\n",
    "        f.write('the number of features: %d'%X_train.shape[1])\n",
    "        f.write('\\n')\n",
    "        f.write(dictionary_list(history.history))\n",
    "    model.save(output_model_name)\n",
    "    print('finished processing %s'%file_name)"
   ]
  },
  {
   "cell_type": "code",
   "execution_count": 68,
   "metadata": {},
   "outputs": [
    {
     "output_type": "stream",
     "name": "stdout",
     "text": [
      "start to process\n",
      "Epoch 1/27\n",
      "106/106 [==============================] - 1s 8ms/step - loss: 7.6927e-07 - accuracy: 0.0029 - val_loss: 8.1268e-07 - val_accuracy: 0.0000e+00\n",
      "Epoch 2/27\n",
      "106/106 [==============================] - 1s 7ms/step - loss: 7.6927e-07 - accuracy: 0.0059 - val_loss: 8.1268e-07 - val_accuracy: 0.0000e+00\n",
      "Epoch 3/27\n",
      "106/106 [==============================] - 1s 7ms/step - loss: 7.6927e-07 - accuracy: 0.0053 - val_loss: 8.1268e-07 - val_accuracy: 0.0000e+00\n",
      "Epoch 4/27\n",
      "106/106 [==============================] - 1s 7ms/step - loss: 7.6927e-07 - accuracy: 0.0044 - val_loss: 8.1268e-07 - val_accuracy: 0.0000e+00\n",
      "Epoch 5/27\n",
      "106/106 [==============================] - 1s 7ms/step - loss: 7.6927e-07 - accuracy: 0.0041 - val_loss: 8.1268e-07 - val_accuracy: 0.0000e+00\n",
      "Epoch 6/27\n",
      "106/106 [==============================] - 1s 7ms/step - loss: 7.6927e-07 - accuracy: 0.0029 - val_loss: 8.1268e-07 - val_accuracy: 0.0000e+00\n",
      "Epoch 7/27\n",
      "106/106 [==============================] - 1s 7ms/step - loss: 7.6927e-07 - accuracy: 0.0027 - val_loss: 8.1268e-07 - val_accuracy: 0.0000e+00\n",
      "Epoch 8/27\n",
      "106/106 [==============================] - 1s 7ms/step - loss: 7.6927e-07 - accuracy: 0.0032 - val_loss: 8.1268e-07 - val_accuracy: 0.0000e+00\n",
      "Epoch 9/27\n",
      "106/106 [==============================] - 1s 7ms/step - loss: 7.6927e-07 - accuracy: 0.0041 - val_loss: 8.1268e-07 - val_accuracy: 0.0000e+00\n",
      "Epoch 10/27\n",
      "106/106 [==============================] - 1s 7ms/step - loss: 7.6927e-07 - accuracy: 0.0038 - val_loss: 8.1268e-07 - val_accuracy: 0.0000e+00\n",
      "Epoch 11/27\n",
      "106/106 [==============================] - 1s 7ms/step - loss: 7.6927e-07 - accuracy: 0.0047 - val_loss: 8.1268e-07 - val_accuracy: 0.0000e+00\n",
      "Epoch 12/27\n",
      "106/106 [==============================] - 1s 7ms/step - loss: 7.6927e-07 - accuracy: 0.0041 - val_loss: 8.1268e-07 - val_accuracy: 0.0000e+00\n",
      "Epoch 13/27\n",
      "106/106 [==============================] - 1s 7ms/step - loss: 7.6927e-07 - accuracy: 0.0044 - val_loss: 8.1268e-07 - val_accuracy: 0.0000e+00\n",
      "Epoch 14/27\n",
      "106/106 [==============================] - 1s 7ms/step - loss: 7.6927e-07 - accuracy: 0.0050 - val_loss: 8.1268e-07 - val_accuracy: 0.0000e+00\n",
      "Epoch 15/27\n",
      "106/106 [==============================] - 1s 7ms/step - loss: 7.6927e-07 - accuracy: 0.0041 - val_loss: 8.1268e-07 - val_accuracy: 0.0000e+00\n",
      "Epoch 16/27\n",
      "106/106 [==============================] - 1s 7ms/step - loss: 7.6927e-07 - accuracy: 0.0059 - val_loss: 8.1268e-07 - val_accuracy: 0.0000e+00\n",
      "Epoch 17/27\n",
      "106/106 [==============================] - 1s 7ms/step - loss: 7.6927e-07 - accuracy: 0.0038 - val_loss: 8.1268e-07 - val_accuracy: 0.0000e+00\n",
      "Epoch 18/27\n",
      "106/106 [==============================] - 1s 7ms/step - loss: 7.6927e-07 - accuracy: 0.0044 - val_loss: 8.1268e-07 - val_accuracy: 0.0000e+00\n",
      "Epoch 19/27\n",
      "106/106 [==============================] - 1s 7ms/step - loss: 7.6927e-07 - accuracy: 0.0041 - val_loss: 8.1268e-07 - val_accuracy: 0.0000e+00\n",
      "Epoch 20/27\n",
      "106/106 [==============================] - 1s 7ms/step - loss: 7.6927e-07 - accuracy: 0.0053 - val_loss: 8.1268e-07 - val_accuracy: 0.0000e+00\n",
      "Epoch 21/27\n",
      "106/106 [==============================] - 1s 7ms/step - loss: 7.6927e-07 - accuracy: 0.0050 - val_loss: 8.1268e-07 - val_accuracy: 0.0000e+00\n",
      "Epoch 22/27\n",
      "106/106 [==============================] - 1s 7ms/step - loss: 7.6927e-07 - accuracy: 0.0041 - val_loss: 8.1268e-07 - val_accuracy: 0.0000e+00\n",
      "Epoch 23/27\n",
      "106/106 [==============================] - 1s 7ms/step - loss: 7.6927e-07 - accuracy: 0.0041 - val_loss: 8.1268e-07 - val_accuracy: 0.0000e+00\n",
      "Epoch 24/27\n",
      "106/106 [==============================] - 1s 7ms/step - loss: 7.6927e-07 - accuracy: 0.0032 - val_loss: 8.1268e-07 - val_accuracy: 0.0000e+00\n",
      "Epoch 25/27\n",
      "106/106 [==============================] - 1s 7ms/step - loss: 7.6927e-07 - accuracy: 0.0035 - val_loss: 8.1268e-07 - val_accuracy: 0.0000e+00\n",
      "Epoch 26/27\n",
      "106/106 [==============================] - 1s 7ms/step - loss: 7.6927e-07 - accuracy: 0.0044 - val_loss: 8.1268e-07 - val_accuracy: 0.0000e+00\n",
      "Epoch 27/27\n",
      "106/106 [==============================] - 1s 7ms/step - loss: 7.6927e-07 - accuracy: 0.0065 - val_loss: 8.1268e-07 - val_accuracy: 0.0000e+00\n",
      "finished processing superct_v0_BoneMarrowcKit_1.csv\n",
      "start to process\n",
      "Epoch 1/22\n",
      "87/87 [==============================] - 1s 8ms/step - loss: 2.4168e-07 - accuracy: 0.1496 - val_loss: 2.2814e-07 - val_accuracy: 0.0000e+00\n",
      "Epoch 2/22\n",
      "87/87 [==============================] - 1s 7ms/step - loss: 2.4168e-07 - accuracy: 0.1615 - val_loss: 2.2814e-07 - val_accuracy: 0.0000e+00\n",
      "Epoch 3/22\n",
      "87/87 [==============================] - 1s 8ms/step - loss: 2.4168e-07 - accuracy: 0.1464 - val_loss: 2.2814e-07 - val_accuracy: 0.0000e+00\n",
      "Epoch 4/22\n",
      "87/87 [==============================] - 1s 7ms/step - loss: 2.4168e-07 - accuracy: 0.1521 - val_loss: 2.2814e-07 - val_accuracy: 0.0000e+00\n",
      "Epoch 5/22\n",
      "87/87 [==============================] - 1s 7ms/step - loss: 2.4168e-07 - accuracy: 0.1546 - val_loss: 2.2814e-07 - val_accuracy: 0.0000e+00\n",
      "Epoch 6/22\n",
      "87/87 [==============================] - 1s 7ms/step - loss: 2.4168e-07 - accuracy: 0.1456 - val_loss: 2.2814e-07 - val_accuracy: 0.0000e+00\n",
      "Epoch 7/22\n",
      "87/87 [==============================] - 1s 7ms/step - loss: 2.4168e-07 - accuracy: 0.1600 - val_loss: 2.2814e-07 - val_accuracy: 0.0000e+00\n",
      "Epoch 8/22\n",
      "87/87 [==============================] - 1s 7ms/step - loss: 2.4168e-07 - accuracy: 0.1456 - val_loss: 2.2814e-07 - val_accuracy: 0.0000e+00\n",
      "Epoch 9/22\n",
      "87/87 [==============================] - 1s 7ms/step - loss: 2.4168e-07 - accuracy: 0.1615 - val_loss: 2.2814e-07 - val_accuracy: 0.0000e+00\n",
      "Epoch 10/22\n",
      "87/87 [==============================] - 1s 7ms/step - loss: 2.4168e-07 - accuracy: 0.1460 - val_loss: 2.2814e-07 - val_accuracy: 0.0000e+00\n",
      "Epoch 11/22\n",
      "87/87 [==============================] - 1s 7ms/step - loss: 2.4168e-07 - accuracy: 0.1589 - val_loss: 2.2814e-07 - val_accuracy: 0.0000e+00\n",
      "Epoch 12/22\n",
      "87/87 [==============================] - 1s 7ms/step - loss: 2.4168e-07 - accuracy: 0.1449 - val_loss: 2.2814e-07 - val_accuracy: 0.0000e+00\n",
      "Epoch 13/22\n",
      "87/87 [==============================] - 1s 7ms/step - loss: 2.4168e-07 - accuracy: 0.1485 - val_loss: 2.2814e-07 - val_accuracy: 0.0000e+00\n",
      "Epoch 14/22\n",
      "87/87 [==============================] - 1s 7ms/step - loss: 2.4168e-07 - accuracy: 0.1478 - val_loss: 2.2814e-07 - val_accuracy: 0.0000e+00\n",
      "Epoch 15/22\n",
      "87/87 [==============================] - 1s 7ms/step - loss: 2.4168e-07 - accuracy: 0.1579 - val_loss: 2.2814e-07 - val_accuracy: 0.0000e+00\n",
      "Epoch 16/22\n",
      "87/87 [==============================] - 1s 7ms/step - loss: 2.4168e-07 - accuracy: 0.1489 - val_loss: 2.2814e-07 - val_accuracy: 0.0000e+00\n",
      "Epoch 17/22\n",
      "87/87 [==============================] - 1s 7ms/step - loss: 2.4168e-07 - accuracy: 0.1453 - val_loss: 2.2814e-07 - val_accuracy: 0.0000e+00\n",
      "Epoch 18/22\n",
      "87/87 [==============================] - 1s 7ms/step - loss: 2.4168e-07 - accuracy: 0.1571 - val_loss: 2.2814e-07 - val_accuracy: 0.0000e+00\n",
      "Epoch 19/22\n",
      "87/87 [==============================] - 1s 7ms/step - loss: 2.4168e-07 - accuracy: 0.1481 - val_loss: 2.2814e-07 - val_accuracy: 0.0000e+00\n",
      "Epoch 20/22\n",
      "87/87 [==============================] - 1s 8ms/step - loss: 2.4168e-07 - accuracy: 0.1607 - val_loss: 2.2814e-07 - val_accuracy: 0.0000e+00\n",
      "Epoch 21/22\n",
      "87/87 [==============================] - 1s 7ms/step - loss: 2.4168e-07 - accuracy: 0.1514 - val_loss: 2.2814e-07 - val_accuracy: 0.0000e+00\n",
      "Epoch 22/22\n",
      "87/87 [==============================] - 1s 7ms/step - loss: 2.4168e-07 - accuracy: 0.1478 - val_loss: 2.2814e-07 - val_accuracy: 0.0000e+00\n",
      "finished processing superct_v0_NeonatalCalvaria_1.csv\n",
      "start to process\n"
     ]
    },
    {
     "output_type": "error",
     "ename": "KeyboardInterrupt",
     "evalue": "",
     "traceback": [
      "\u001b[0;31m---------------------------------------------------------------------------\u001b[0m",
      "\u001b[0;31mKeyboardInterrupt\u001b[0m                         Traceback (most recent call last)",
      "\u001b[0;32m<ipython-input-68-613fedd980a3>\u001b[0m in \u001b[0;36m<module>\u001b[0;34m\u001b[0m\n\u001b[1;32m      4\u001b[0m     \u001b[0;32mfor\u001b[0m \u001b[0mname\u001b[0m \u001b[0;32min\u001b[0m \u001b[0mfiles\u001b[0m\u001b[0;34m:\u001b[0m\u001b[0;34m\u001b[0m\u001b[0;34m\u001b[0m\u001b[0m\n\u001b[1;32m      5\u001b[0m        \u001b[0mfile_dir\u001b[0m \u001b[0;34m=\u001b[0m \u001b[0mos\u001b[0m\u001b[0;34m.\u001b[0m\u001b[0mpath\u001b[0m\u001b[0;34m.\u001b[0m\u001b[0mjoin\u001b[0m\u001b[0;34m(\u001b[0m\u001b[0mroot\u001b[0m\u001b[0;34m,\u001b[0m \u001b[0mname\u001b[0m\u001b[0;34m)\u001b[0m\u001b[0;34m\u001b[0m\u001b[0;34m\u001b[0m\u001b[0m\n\u001b[0;32m----> 6\u001b[0;31m        \u001b[0mtrain_and_save\u001b[0m\u001b[0;34m(\u001b[0m\u001b[0mfile_dir\u001b[0m\u001b[0;34m)\u001b[0m\u001b[0;34m\u001b[0m\u001b[0;34m\u001b[0m\u001b[0m\n\u001b[0m",
      "\u001b[0;32m<ipython-input-67-088a29816f55>\u001b[0m in \u001b[0;36mtrain_and_save\u001b[0;34m(file_dir)\u001b[0m\n\u001b[1;32m      1\u001b[0m \u001b[0;32mdef\u001b[0m \u001b[0mtrain_and_save\u001b[0m\u001b[0;34m(\u001b[0m\u001b[0mfile_dir\u001b[0m\u001b[0;34m)\u001b[0m\u001b[0;34m:\u001b[0m\u001b[0;34m\u001b[0m\u001b[0;34m\u001b[0m\u001b[0m\n\u001b[1;32m      2\u001b[0m     \u001b[0mprint\u001b[0m\u001b[0;34m(\u001b[0m\u001b[0;34m'start to process'\u001b[0m\u001b[0;34m)\u001b[0m\u001b[0;34m\u001b[0m\u001b[0;34m\u001b[0m\u001b[0m\n\u001b[0;32m----> 3\u001b[0;31m     \u001b[0mX_train\u001b[0m\u001b[0;34m,\u001b[0m \u001b[0mX_test\u001b[0m\u001b[0;34m,\u001b[0m \u001b[0mX_val\u001b[0m\u001b[0;34m,\u001b[0m \u001b[0my_train\u001b[0m\u001b[0;34m,\u001b[0m \u001b[0my_test\u001b[0m\u001b[0;34m,\u001b[0m \u001b[0my_val\u001b[0m \u001b[0;34m=\u001b[0m \u001b[0mload_dataset_from_dir\u001b[0m\u001b[0;34m(\u001b[0m\u001b[0mfile_dir\u001b[0m\u001b[0;34m)\u001b[0m\u001b[0;34m\u001b[0m\u001b[0;34m\u001b[0m\u001b[0m\n\u001b[0m\u001b[1;32m      4\u001b[0m     \u001b[0mbatch_size\u001b[0m \u001b[0;34m=\u001b[0m \u001b[0;36m128\u001b[0m\u001b[0;34m\u001b[0m\u001b[0;34m\u001b[0m\u001b[0m\n\u001b[1;32m      5\u001b[0m     \u001b[0;31m# round up the epches\u001b[0m\u001b[0;34m\u001b[0m\u001b[0;34m\u001b[0m\u001b[0;34m\u001b[0m\u001b[0m\n",
      "\u001b[0;32m<ipython-input-62-d6edfffa8ef2>\u001b[0m in \u001b[0;36mload_dataset_from_dir\u001b[0;34m(file_dir)\u001b[0m\n\u001b[1;32m      1\u001b[0m \u001b[0;32mdef\u001b[0m \u001b[0mload_dataset_from_dir\u001b[0m\u001b[0;34m(\u001b[0m\u001b[0mfile_dir\u001b[0m\u001b[0;34m)\u001b[0m\u001b[0;34m:\u001b[0m\u001b[0;34m\u001b[0m\u001b[0;34m\u001b[0m\u001b[0m\n\u001b[0;32m----> 2\u001b[0;31m     \u001b[0md_df\u001b[0m \u001b[0;34m=\u001b[0m \u001b[0mpd\u001b[0m\u001b[0;34m.\u001b[0m\u001b[0mread_csv\u001b[0m\u001b[0;34m(\u001b[0m\u001b[0mfile_dir\u001b[0m\u001b[0;34m)\u001b[0m\u001b[0;34m\u001b[0m\u001b[0;34m\u001b[0m\u001b[0m\n\u001b[0m\u001b[1;32m      3\u001b[0m     \u001b[0mX\u001b[0m \u001b[0;34m=\u001b[0m \u001b[0md_df\u001b[0m\u001b[0;34m.\u001b[0m\u001b[0miloc\u001b[0m\u001b[0;34m[\u001b[0m\u001b[0;34m:\u001b[0m\u001b[0;34m,\u001b[0m\u001b[0;36m1\u001b[0m\u001b[0;34m:\u001b[0m\u001b[0;34m-\u001b[0m\u001b[0;36m2\u001b[0m\u001b[0;34m]\u001b[0m\u001b[0;34m\u001b[0m\u001b[0;34m\u001b[0m\u001b[0m\n\u001b[1;32m      4\u001b[0m     \u001b[0my\u001b[0m \u001b[0;34m=\u001b[0m \u001b[0md_df\u001b[0m\u001b[0;34m[\u001b[0m\u001b[0;34m'target_id'\u001b[0m\u001b[0;34m]\u001b[0m\u001b[0;34m\u001b[0m\u001b[0;34m\u001b[0m\u001b[0m\n\u001b[1;32m      5\u001b[0m     \u001b[0mX_train\u001b[0m\u001b[0;34m,\u001b[0m \u001b[0mX_test\u001b[0m\u001b[0;34m,\u001b[0m \u001b[0my_train\u001b[0m\u001b[0;34m,\u001b[0m \u001b[0my_test\u001b[0m \u001b[0;34m=\u001b[0m \u001b[0mtrain_test_split\u001b[0m\u001b[0;34m(\u001b[0m\u001b[0mX\u001b[0m\u001b[0;34m,\u001b[0m \u001b[0my\u001b[0m\u001b[0;34m,\u001b[0m \u001b[0mtest_size\u001b[0m\u001b[0;34m=\u001b[0m\u001b[0;36m0.2\u001b[0m\u001b[0;34m,\u001b[0m \u001b[0mrandom_state\u001b[0m\u001b[0;34m=\u001b[0m\u001b[0;36m42\u001b[0m\u001b[0;34m)\u001b[0m\u001b[0;34m\u001b[0m\u001b[0;34m\u001b[0m\u001b[0m\n",
      "\u001b[0;32m~/.local/lib/python3.8/site-packages/pandas/io/parsers.py\u001b[0m in \u001b[0;36mread_csv\u001b[0;34m(filepath_or_buffer, sep, delimiter, header, names, index_col, usecols, squeeze, prefix, mangle_dupe_cols, dtype, engine, converters, true_values, false_values, skipinitialspace, skiprows, skipfooter, nrows, na_values, keep_default_na, na_filter, verbose, skip_blank_lines, parse_dates, infer_datetime_format, keep_date_col, date_parser, dayfirst, cache_dates, iterator, chunksize, compression, thousands, decimal, lineterminator, quotechar, quoting, doublequote, escapechar, comment, encoding, dialect, error_bad_lines, warn_bad_lines, delim_whitespace, low_memory, memory_map, float_precision, storage_options)\u001b[0m\n\u001b[1;32m    608\u001b[0m     \u001b[0mkwds\u001b[0m\u001b[0;34m.\u001b[0m\u001b[0mupdate\u001b[0m\u001b[0;34m(\u001b[0m\u001b[0mkwds_defaults\u001b[0m\u001b[0;34m)\u001b[0m\u001b[0;34m\u001b[0m\u001b[0;34m\u001b[0m\u001b[0m\n\u001b[1;32m    609\u001b[0m \u001b[0;34m\u001b[0m\u001b[0m\n\u001b[0;32m--> 610\u001b[0;31m     \u001b[0;32mreturn\u001b[0m \u001b[0m_read\u001b[0m\u001b[0;34m(\u001b[0m\u001b[0mfilepath_or_buffer\u001b[0m\u001b[0;34m,\u001b[0m \u001b[0mkwds\u001b[0m\u001b[0;34m)\u001b[0m\u001b[0;34m\u001b[0m\u001b[0;34m\u001b[0m\u001b[0m\n\u001b[0m\u001b[1;32m    611\u001b[0m \u001b[0;34m\u001b[0m\u001b[0m\n\u001b[1;32m    612\u001b[0m \u001b[0;34m\u001b[0m\u001b[0m\n",
      "\u001b[0;32m~/.local/lib/python3.8/site-packages/pandas/io/parsers.py\u001b[0m in \u001b[0;36m_read\u001b[0;34m(filepath_or_buffer, kwds)\u001b[0m\n\u001b[1;32m    466\u001b[0m \u001b[0;34m\u001b[0m\u001b[0m\n\u001b[1;32m    467\u001b[0m     \u001b[0;32mwith\u001b[0m \u001b[0mparser\u001b[0m\u001b[0;34m:\u001b[0m\u001b[0;34m\u001b[0m\u001b[0;34m\u001b[0m\u001b[0m\n\u001b[0;32m--> 468\u001b[0;31m         \u001b[0;32mreturn\u001b[0m \u001b[0mparser\u001b[0m\u001b[0;34m.\u001b[0m\u001b[0mread\u001b[0m\u001b[0;34m(\u001b[0m\u001b[0mnrows\u001b[0m\u001b[0;34m)\u001b[0m\u001b[0;34m\u001b[0m\u001b[0;34m\u001b[0m\u001b[0m\n\u001b[0m\u001b[1;32m    469\u001b[0m \u001b[0;34m\u001b[0m\u001b[0m\n\u001b[1;32m    470\u001b[0m \u001b[0;34m\u001b[0m\u001b[0m\n",
      "\u001b[0;32m~/.local/lib/python3.8/site-packages/pandas/io/parsers.py\u001b[0m in \u001b[0;36mread\u001b[0;34m(self, nrows)\u001b[0m\n\u001b[1;32m   1055\u001b[0m     \u001b[0;32mdef\u001b[0m \u001b[0mread\u001b[0m\u001b[0;34m(\u001b[0m\u001b[0mself\u001b[0m\u001b[0;34m,\u001b[0m \u001b[0mnrows\u001b[0m\u001b[0;34m=\u001b[0m\u001b[0;32mNone\u001b[0m\u001b[0;34m)\u001b[0m\u001b[0;34m:\u001b[0m\u001b[0;34m\u001b[0m\u001b[0;34m\u001b[0m\u001b[0m\n\u001b[1;32m   1056\u001b[0m         \u001b[0mnrows\u001b[0m \u001b[0;34m=\u001b[0m \u001b[0mvalidate_integer\u001b[0m\u001b[0;34m(\u001b[0m\u001b[0;34m\"nrows\"\u001b[0m\u001b[0;34m,\u001b[0m \u001b[0mnrows\u001b[0m\u001b[0;34m)\u001b[0m\u001b[0;34m\u001b[0m\u001b[0;34m\u001b[0m\u001b[0m\n\u001b[0;32m-> 1057\u001b[0;31m         \u001b[0mindex\u001b[0m\u001b[0;34m,\u001b[0m \u001b[0mcolumns\u001b[0m\u001b[0;34m,\u001b[0m \u001b[0mcol_dict\u001b[0m \u001b[0;34m=\u001b[0m \u001b[0mself\u001b[0m\u001b[0;34m.\u001b[0m\u001b[0m_engine\u001b[0m\u001b[0;34m.\u001b[0m\u001b[0mread\u001b[0m\u001b[0;34m(\u001b[0m\u001b[0mnrows\u001b[0m\u001b[0;34m)\u001b[0m\u001b[0;34m\u001b[0m\u001b[0;34m\u001b[0m\u001b[0m\n\u001b[0m\u001b[1;32m   1058\u001b[0m \u001b[0;34m\u001b[0m\u001b[0m\n\u001b[1;32m   1059\u001b[0m         \u001b[0;32mif\u001b[0m \u001b[0mindex\u001b[0m \u001b[0;32mis\u001b[0m \u001b[0;32mNone\u001b[0m\u001b[0;34m:\u001b[0m\u001b[0;34m\u001b[0m\u001b[0;34m\u001b[0m\u001b[0m\n",
      "\u001b[0;32m~/.local/lib/python3.8/site-packages/pandas/io/parsers.py\u001b[0m in \u001b[0;36mread\u001b[0;34m(self, nrows)\u001b[0m\n\u001b[1;32m   2059\u001b[0m     \u001b[0;32mdef\u001b[0m \u001b[0mread\u001b[0m\u001b[0;34m(\u001b[0m\u001b[0mself\u001b[0m\u001b[0;34m,\u001b[0m \u001b[0mnrows\u001b[0m\u001b[0;34m=\u001b[0m\u001b[0;32mNone\u001b[0m\u001b[0;34m)\u001b[0m\u001b[0;34m:\u001b[0m\u001b[0;34m\u001b[0m\u001b[0;34m\u001b[0m\u001b[0m\n\u001b[1;32m   2060\u001b[0m         \u001b[0;32mtry\u001b[0m\u001b[0;34m:\u001b[0m\u001b[0;34m\u001b[0m\u001b[0;34m\u001b[0m\u001b[0m\n\u001b[0;32m-> 2061\u001b[0;31m             \u001b[0mdata\u001b[0m \u001b[0;34m=\u001b[0m \u001b[0mself\u001b[0m\u001b[0;34m.\u001b[0m\u001b[0m_reader\u001b[0m\u001b[0;34m.\u001b[0m\u001b[0mread\u001b[0m\u001b[0;34m(\u001b[0m\u001b[0mnrows\u001b[0m\u001b[0;34m)\u001b[0m\u001b[0;34m\u001b[0m\u001b[0;34m\u001b[0m\u001b[0m\n\u001b[0m\u001b[1;32m   2062\u001b[0m         \u001b[0;32mexcept\u001b[0m \u001b[0mStopIteration\u001b[0m\u001b[0;34m:\u001b[0m\u001b[0;34m\u001b[0m\u001b[0;34m\u001b[0m\u001b[0m\n\u001b[1;32m   2063\u001b[0m             \u001b[0;32mif\u001b[0m \u001b[0mself\u001b[0m\u001b[0;34m.\u001b[0m\u001b[0m_first_chunk\u001b[0m\u001b[0;34m:\u001b[0m\u001b[0;34m\u001b[0m\u001b[0;34m\u001b[0m\u001b[0m\n",
      "\u001b[0;32mpandas/_libs/parsers.pyx\u001b[0m in \u001b[0;36mpandas._libs.parsers.TextReader.read\u001b[0;34m()\u001b[0m\n",
      "\u001b[0;32mpandas/_libs/parsers.pyx\u001b[0m in \u001b[0;36mpandas._libs.parsers.TextReader._read_low_memory\u001b[0;34m()\u001b[0m\n",
      "\u001b[0;32mpandas/_libs/parsers.pyx\u001b[0m in \u001b[0;36mpandas._libs.parsers.TextReader._read_rows\u001b[0;34m()\u001b[0m\n",
      "\u001b[0;32mpandas/_libs/parsers.pyx\u001b[0m in \u001b[0;36mpandas._libs.parsers.TextReader._convert_column_data\u001b[0;34m()\u001b[0m\n",
      "\u001b[0;32mpandas/_libs/parsers.pyx\u001b[0m in \u001b[0;36mpandas._libs.parsers.TextReader._convert_tokens\u001b[0;34m()\u001b[0m\n",
      "\u001b[0;32mpandas/_libs/parsers.pyx\u001b[0m in \u001b[0;36mpandas._libs.parsers.TextReader._convert_with_dtype\u001b[0;34m()\u001b[0m\n",
      "\u001b[0;32m~/.local/lib/python3.8/site-packages/pandas/core/dtypes/common.py\u001b[0m in \u001b[0;36mis_categorical_dtype\u001b[0;34m(arr_or_dtype)\u001b[0m\n\u001b[1;32m    535\u001b[0m \u001b[0;34m\u001b[0m\u001b[0m\n\u001b[1;32m    536\u001b[0m \u001b[0;34m\u001b[0m\u001b[0m\n\u001b[0;32m--> 537\u001b[0;31m \u001b[0;32mdef\u001b[0m \u001b[0mis_categorical_dtype\u001b[0m\u001b[0;34m(\u001b[0m\u001b[0marr_or_dtype\u001b[0m\u001b[0;34m)\u001b[0m \u001b[0;34m->\u001b[0m \u001b[0mbool\u001b[0m\u001b[0;34m:\u001b[0m\u001b[0;34m\u001b[0m\u001b[0;34m\u001b[0m\u001b[0m\n\u001b[0m\u001b[1;32m    538\u001b[0m     \"\"\"\n\u001b[1;32m    539\u001b[0m     \u001b[0mCheck\u001b[0m \u001b[0mwhether\u001b[0m \u001b[0man\u001b[0m \u001b[0marray\u001b[0m\u001b[0;34m-\u001b[0m\u001b[0mlike\u001b[0m \u001b[0;32mor\u001b[0m \u001b[0mdtype\u001b[0m \u001b[0;32mis\u001b[0m \u001b[0mof\u001b[0m \u001b[0mthe\u001b[0m \u001b[0mCategorical\u001b[0m \u001b[0mdtype\u001b[0m\u001b[0;34m.\u001b[0m\u001b[0;34m\u001b[0m\u001b[0;34m\u001b[0m\u001b[0m\n",
      "\u001b[0;31mKeyboardInterrupt\u001b[0m: "
     ]
    }
   ],
   "source": [
    " # processed_dge folder contains all new defined datasets\n",
    " # get all shapes from processed_dge files\n",
    " for root, dirs, files in os.walk(\"/home/jay/Documents/projects/todo_files/ml_final_pro/datasets/pre_processed_datasets\", topdown=False):\n",
    "     for name in files:\n",
    "        file_dir = os.path.join(root, name)\n",
    "        train_and_save(file_dir)"
   ]
  },
  {
   "cell_type": "code",
   "execution_count": null,
   "metadata": {},
   "outputs": [],
   "source": []
  },
  {
   "cell_type": "code",
   "execution_count": 65,
   "metadata": {},
   "outputs": [
    {
     "output_type": "stream",
     "name": "stdout",
     "text": [
      "Epoch 1/14\n",
      "55/55 [==============================] - 1s 11ms/step - loss: 5.1526e-07 - accuracy: 0.0547 - val_loss: 5.0474e-07 - val_accuracy: 0.0023\n",
      "Epoch 2/14\n",
      "55/55 [==============================] - 0s 9ms/step - loss: 5.1526e-07 - accuracy: 0.0541 - val_loss: 5.0474e-07 - val_accuracy: 0.0023\n",
      "Epoch 3/14\n",
      "55/55 [==============================] - 0s 8ms/step - loss: 5.1526e-07 - accuracy: 0.0444 - val_loss: 5.0474e-07 - val_accuracy: 0.0023\n",
      "Epoch 4/14\n",
      "55/55 [==============================] - 0s 8ms/step - loss: 5.1526e-07 - accuracy: 0.0524 - val_loss: 5.0474e-07 - val_accuracy: 0.0023\n",
      "Epoch 5/14\n",
      "55/55 [==============================] - 0s 8ms/step - loss: 5.1526e-07 - accuracy: 0.0478 - val_loss: 5.0474e-07 - val_accuracy: 0.0023\n",
      "Epoch 6/14\n",
      "55/55 [==============================] - 0s 8ms/step - loss: 5.1526e-07 - accuracy: 0.0558 - val_loss: 5.0474e-07 - val_accuracy: 0.0023\n",
      "Epoch 7/14\n",
      "55/55 [==============================] - 0s 8ms/step - loss: 5.1526e-07 - accuracy: 0.0507 - val_loss: 5.0474e-07 - val_accuracy: 0.0023\n",
      "Epoch 8/14\n",
      "55/55 [==============================] - 0s 8ms/step - loss: 5.1526e-07 - accuracy: 0.0495 - val_loss: 5.0474e-07 - val_accuracy: 0.0023\n",
      "Epoch 9/14\n",
      "55/55 [==============================] - 0s 8ms/step - loss: 5.1526e-07 - accuracy: 0.0541 - val_loss: 5.0474e-07 - val_accuracy: 0.0023\n",
      "Epoch 10/14\n",
      "55/55 [==============================] - 0s 8ms/step - loss: 5.1526e-07 - accuracy: 0.0569 - val_loss: 5.0474e-07 - val_accuracy: 0.0023\n",
      "Epoch 11/14\n",
      "55/55 [==============================] - 0s 8ms/step - loss: 5.1526e-07 - accuracy: 0.0649 - val_loss: 5.0474e-07 - val_accuracy: 0.0023\n",
      "Epoch 12/14\n",
      "55/55 [==============================] - 0s 8ms/step - loss: 5.1526e-07 - accuracy: 0.0569 - val_loss: 5.0474e-07 - val_accuracy: 0.0023\n",
      "Epoch 13/14\n",
      "55/55 [==============================] - 0s 9ms/step - loss: 5.1526e-07 - accuracy: 0.0490 - val_loss: 5.0474e-07 - val_accuracy: 0.0023\n",
      "Epoch 14/14\n",
      "55/55 [==============================] - 0s 8ms/step - loss: 5.1526e-07 - accuracy: 0.0558 - val_loss: 5.0474e-07 - val_accuracy: 0.0023\n",
      "finished processing Bladder_1.csv\n"
     ]
    }
   ],
   "source": [
    "train_and_save('/home/jay/Documents/projects/todo_files/ml_final_pro/datasets/pre_processed_datasets/Bladder_1.csv')"
   ]
  },
  {
   "cell_type": "code",
   "execution_count": null,
   "metadata": {},
   "outputs": [],
   "source": []
  },
  {
   "cell_type": "code",
   "execution_count": null,
   "metadata": {},
   "outputs": [],
   "source": []
  },
  {
   "cell_type": "code",
   "execution_count": null,
   "metadata": {},
   "outputs": [],
   "source": []
  },
  {
   "cell_type": "code",
   "execution_count": null,
   "metadata": {},
   "outputs": [],
   "source": []
  },
  {
   "cell_type": "code",
   "execution_count": null,
   "metadata": {},
   "outputs": [],
   "source": []
  },
  {
   "cell_type": "code",
   "execution_count": null,
   "metadata": {},
   "outputs": [],
   "source": []
  },
  {
   "cell_type": "code",
   "execution_count": null,
   "metadata": {},
   "outputs": [],
   "source": []
  },
  {
   "cell_type": "code",
   "execution_count": 25,
   "metadata": {},
   "outputs": [],
   "source": [
    "X_train, X_test, y_train, y_test = load_dataset_from_dir('/home/jay/Documents/projects/todo_files/ml_final_pro/datasets/pre_processed_datasets/Bladder_1.csv')"
   ]
  },
  {
   "cell_type": "code",
   "execution_count": 26,
   "metadata": {},
   "outputs": [],
   "source": [
    "model = create_superct_model(X_train.shape[1])"
   ]
  },
  {
   "cell_type": "code",
   "execution_count": 28,
   "metadata": {},
   "outputs": [],
   "source": [
    "batch_size = 128\n",
    "# round up the epches\n",
    "num_epoches = math.ceil(X_train.shape[0]/batch_size)"
   ]
  },
  {
   "cell_type": "code",
   "execution_count": 58,
   "metadata": {},
   "outputs": [],
   "source": [
    "with open('histor_test.txt','w') as f:\n",
    "    f.write('/home/jay/Documents/projects/todo_files/ml_final_pro/datasets/pre_processed_datasets/Bladder_1.csv')\n",
    "    f.write('\\n')\n",
    "    f.write('the number of observations: %d'%X_train.shape[0])\n",
    "    f.write('\\n')\n",
    "    f.write('the number of features: %d'%X_train.shape[1])\n",
    "    f.write('\\n')\n",
    "    f.write(dictionary_list(history.history))"
   ]
  },
  {
   "cell_type": "code",
   "execution_count": 31,
   "metadata": {},
   "outputs": [
    {
     "output_type": "stream",
     "name": "stdout",
     "text": [
      "Bladder_1.csv\n"
     ]
    }
   ],
   "source": [
    "print(os.path.basename('/home/jay/Documents/projects/todo_files/ml_final_pro/datasets/pre_processed_datasets/Bladder_1.csv'))"
   ]
  },
  {
   "cell_type": "code",
   "execution_count": 32,
   "metadata": {},
   "outputs": [
    {
     "output_type": "execute_result",
     "data": {
      "text/plain": [
       "'Bladder_1txt'"
      ]
     },
     "metadata": {},
     "execution_count": 32
    }
   ],
   "source": [
    "'Bladder_1.csv'.replace('.csv', '.txt')"
   ]
  },
  {
   "cell_type": "code",
   "execution_count": 39,
   "metadata": {},
   "outputs": [],
   "source": [
    "import json"
   ]
  },
  {
   "cell_type": "code",
   "execution_count": 41,
   "metadata": {},
   "outputs": [
    {
     "output_type": "execute_result",
     "data": {
      "text/plain": [
       "'{\"loss\": [5.1315367954885e-07, 5.1315367954885e-07, 5.1315367954885e-07, 5.1315367954885e-07, 5.1315367954885e-07, 5.1315367954885e-07, 5.1315367954885e-07, 5.1315367954885e-07, 5.1315367954885e-07, 5.1315367954885e-07, 5.1315367954885e-07, 5.1315367954885e-07, 5.1315367954885e-07, 5.1315367954885e-07, 5.1315367954885e-07, 5.1315367954885e-07, 5.1315367954885e-07, 5.1315367954885e-07], \"accuracy\": [0.02504553645849228, 0.024134790524840355, 0.025956284254789352, 0.023679416626691818, 0.019581057131290436, 0.025956284254789352, 0.022313296794891357, 0.0173041895031929, 0.02185792289674282, 0.023679416626691818, 0.02185792289674282, 0.018670309334993362, 0.02185792289674282, 0.02322404459118843, 0.025500910356640816, 0.02504553645849228, 0.018670309334993362, 0.02641165815293789]}'"
      ]
     },
     "metadata": {},
     "execution_count": 41
    }
   ],
   "source": [
    "json.dumps(history.history)"
   ]
  },
  {
   "cell_type": "code",
   "execution_count": 42,
   "metadata": {},
   "outputs": [
    {
     "output_type": "execute_result",
     "data": {
      "text/plain": [
       "\"{'loss': [5.1315367954885e-07, 5.1315367954885e-07, 5.1315367954885e-07, 5.1315367954885e-07, 5.1315367954885e-07, 5.1315367954885e-07, 5.1315367954885e-07, 5.1315367954885e-07, 5.1315367954885e-07, 5.1315367954885e-07, 5.1315367954885e-07, 5.1315367954885e-07, 5.1315367954885e-07, 5.1315367954885e-07, 5.1315367954885e-07, 5.1315367954885e-07, 5.1315367954885e-07, 5.1315367954885e-07], 'accuracy': [0.02504553645849228, 0.024134790524840355, 0.025956284254789352, 0.023679416626691818, 0.019581057131290436, 0.025956284254789352, 0.022313296794891357, 0.0173041895031929, 0.02185792289674282, 0.023679416626691818, 0.02185792289674282, 0.018670309334993362, 0.02185792289674282, 0.02322404459118843, 0.025500910356640816, 0.02504553645849228, 0.018670309334993362, 0.02641165815293789]}\""
      ]
     },
     "metadata": {},
     "execution_count": 42
    }
   ],
   "source": [
    "str(history.history)"
   ]
  },
  {
   "cell_type": "code",
   "execution_count": 45,
   "metadata": {},
   "outputs": [
    {
     "output_type": "error",
     "ename": "TypeError",
     "evalue": "sequence item 0: expected str instance, float found",
     "traceback": [
      "\u001b[0;31m---------------------------------------------------------------------------\u001b[0m",
      "\u001b[0;31mTypeError\u001b[0m                                 Traceback (most recent call last)",
      "\u001b[0;32m<ipython-input-45-3092a3b9f85a>\u001b[0m in \u001b[0;36m<module>\u001b[0;34m\u001b[0m\n\u001b[0;32m----> 1\u001b[0;31m \u001b[0mprint\u001b[0m\u001b[0;34m(\u001b[0m\u001b[0;34m\"{\"\u001b[0m \u001b[0;34m+\u001b[0m \u001b[0;34m\"\\n\"\u001b[0m\u001b[0;34m.\u001b[0m\u001b[0mjoin\u001b[0m\u001b[0;34m(\u001b[0m\u001b[0;34m\"{!r}: {!r},\"\u001b[0m\u001b[0;34m.\u001b[0m\u001b[0mformat\u001b[0m\u001b[0;34m(\u001b[0m\u001b[0mk\u001b[0m\u001b[0;34m,\u001b[0m \u001b[0;34m\"\\n\"\u001b[0m\u001b[0;34m.\u001b[0m\u001b[0mjoin\u001b[0m\u001b[0;34m(\u001b[0m\u001b[0mv\u001b[0m\u001b[0;34m)\u001b[0m\u001b[0;34m)\u001b[0m \u001b[0;32mfor\u001b[0m \u001b[0mk\u001b[0m\u001b[0;34m,\u001b[0m \u001b[0mv\u001b[0m \u001b[0;32min\u001b[0m \u001b[0mhistory\u001b[0m\u001b[0;34m.\u001b[0m\u001b[0mhistory\u001b[0m\u001b[0;34m.\u001b[0m\u001b[0mitems\u001b[0m\u001b[0;34m(\u001b[0m\u001b[0;34m)\u001b[0m\u001b[0;34m)\u001b[0m \u001b[0;34m+\u001b[0m \u001b[0;34m\"}\"\u001b[0m\u001b[0;34m)\u001b[0m\u001b[0;34m\u001b[0m\u001b[0;34m\u001b[0m\u001b[0m\n\u001b[0m",
      "\u001b[0;32m<ipython-input-45-3092a3b9f85a>\u001b[0m in \u001b[0;36m<genexpr>\u001b[0;34m(.0)\u001b[0m\n\u001b[0;32m----> 1\u001b[0;31m \u001b[0mprint\u001b[0m\u001b[0;34m(\u001b[0m\u001b[0;34m\"{\"\u001b[0m \u001b[0;34m+\u001b[0m \u001b[0;34m\"\\n\"\u001b[0m\u001b[0;34m.\u001b[0m\u001b[0mjoin\u001b[0m\u001b[0;34m(\u001b[0m\u001b[0;34m\"{!r}: {!r},\"\u001b[0m\u001b[0;34m.\u001b[0m\u001b[0mformat\u001b[0m\u001b[0;34m(\u001b[0m\u001b[0mk\u001b[0m\u001b[0;34m,\u001b[0m \u001b[0;34m\"\\n\"\u001b[0m\u001b[0;34m.\u001b[0m\u001b[0mjoin\u001b[0m\u001b[0;34m(\u001b[0m\u001b[0mv\u001b[0m\u001b[0;34m)\u001b[0m\u001b[0;34m)\u001b[0m \u001b[0;32mfor\u001b[0m \u001b[0mk\u001b[0m\u001b[0;34m,\u001b[0m \u001b[0mv\u001b[0m \u001b[0;32min\u001b[0m \u001b[0mhistory\u001b[0m\u001b[0;34m.\u001b[0m\u001b[0mhistory\u001b[0m\u001b[0;34m.\u001b[0m\u001b[0mitems\u001b[0m\u001b[0;34m(\u001b[0m\u001b[0;34m)\u001b[0m\u001b[0;34m)\u001b[0m \u001b[0;34m+\u001b[0m \u001b[0;34m\"}\"\u001b[0m\u001b[0;34m)\u001b[0m\u001b[0;34m\u001b[0m\u001b[0;34m\u001b[0m\u001b[0m\n\u001b[0m",
      "\u001b[0;31mTypeError\u001b[0m: sequence item 0: expected str instance, float found"
     ]
    }
   ],
   "source": [
    "print(\"{\" + \"\\n\".join(\"{!r}: {!r},\".format(k, \"\\n\".join(v)) for k, v in history.history.items()) + \"}\")"
   ]
  },
  {
   "cell_type": "code",
   "execution_count": 57,
   "metadata": {},
   "outputs": [],
   "source": [
    "def dictionary_list (input_dic):\n",
    "    return_str = ''\n",
    "    for k, v in input_dic.items():\n",
    "        return_str+=str(k)\n",
    "        return_str+='\\n\\t'\n",
    "        float_list = map(str, v) \n",
    "        return_str+='\\n\\t'.join(float_list)\n",
    "        return_str+='\\n'\n",
    "        return_str+='\\n'\n",
    "    return return_str\n"
   ]
  },
  {
   "cell_type": "code",
   "execution_count": 56,
   "metadata": {},
   "outputs": [
    {
     "output_type": "execute_result",
     "data": {
      "text/plain": [
       "'loss\\n5.1315367954885e-07\\t\\n5.1315367954885e-07\\t\\n5.1315367954885e-07\\t\\n5.1315367954885e-07\\t\\n5.1315367954885e-07\\t\\n5.1315367954885e-07\\t\\n5.1315367954885e-07\\t\\n5.1315367954885e-07\\t\\n5.1315367954885e-07\\t\\n5.1315367954885e-07\\t\\n5.1315367954885e-07\\t\\n5.1315367954885e-07\\t\\n5.1315367954885e-07\\t\\n5.1315367954885e-07\\t\\n5.1315367954885e-07\\t\\n5.1315367954885e-07\\t\\n5.1315367954885e-07\\t\\n5.1315367954885e-07\\n\\naccuracy\\n0.02504553645849228\\t\\n0.024134790524840355\\t\\n0.025956284254789352\\t\\n0.023679416626691818\\t\\n0.019581057131290436\\t\\n0.025956284254789352\\t\\n0.022313296794891357\\t\\n0.0173041895031929\\t\\n0.02185792289674282\\t\\n0.023679416626691818\\t\\n0.02185792289674282\\t\\n0.018670309334993362\\t\\n0.02185792289674282\\t\\n0.02322404459118843\\t\\n0.025500910356640816\\t\\n0.02504553645849228\\t\\n0.018670309334993362\\t\\n0.02641165815293789\\n\\n'"
      ]
     },
     "metadata": {},
     "execution_count": 56
    }
   ],
   "source": [
    "dictionary_list(history.history)"
   ]
  },
  {
   "cell_type": "code",
   "execution_count": null,
   "metadata": {},
   "outputs": [],
   "source": []
  }
 ]
}